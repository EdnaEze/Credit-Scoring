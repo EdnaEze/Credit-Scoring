{
 "cells": [
  {
   "cell_type": "markdown",
   "id": "5eb37d43",
   "metadata": {},
   "source": [
    "# CLASSIFICATION OF AN IMBALANCED DATASET USING LOGISTIC REGRESSION"
   ]
  },
  {
   "cell_type": "markdown",
   "id": "2b09571d",
   "metadata": {},
   "source": [
    "## German Credit dataset\n",
    "\n",
    "* This dataset classifies people described by a set of attributes as good or bad credit risks.\n",
    "* The dataset comes with a cost matrix:\n",
    "\n",
    "      Good  Bad   \n",
    "Good   0    1  (predicted)  \n",
    "Bad    5    0  (actual)\n",
    "\n",
    "According to the cost matrix, it is worse to predict that a customer has a good credit score when they're actually bad than it is to predict that a customer has bad credit score when they're good."
   ]
  },
  {
   "cell_type": "code",
   "execution_count": 1,
   "id": "9668e2b5",
   "metadata": {},
   "outputs": [],
   "source": [
    "# Import basic libraries\n",
    "import numpy as np\n",
    "import pandas as pd\n",
    "import matplotlib.pyplot as plt\n",
    "import seaborn as sns\n",
    "from sklearn.datasets import fetch_openml\n",
    "\n",
    "# Supress warnings\n",
    "import warnings\n",
    "warnings.filterwarnings(\"ignore\")\n",
    "\n",
    "# Set up Visual appearance of plots\n",
    "# chart size\n",
    "plt.rcParams[\"figure.figsize\"] = (10, 5)\n",
    "#background\n",
    "plt.style.use(\"fivethirtyeight\")"
   ]
  },
  {
   "cell_type": "code",
   "execution_count": 2,
   "id": "a2c6b2a3",
   "metadata": {},
   "outputs": [
    {
     "data": {
      "text/html": [
       "<div>\n",
       "<style scoped>\n",
       "    .dataframe tbody tr th:only-of-type {\n",
       "        vertical-align: middle;\n",
       "    }\n",
       "\n",
       "    .dataframe tbody tr th {\n",
       "        vertical-align: top;\n",
       "    }\n",
       "\n",
       "    .dataframe thead th {\n",
       "        text-align: right;\n",
       "    }\n",
       "</style>\n",
       "<table border=\"1\" class=\"dataframe\">\n",
       "  <thead>\n",
       "    <tr style=\"text-align: right;\">\n",
       "      <th></th>\n",
       "      <th>checking_status</th>\n",
       "      <th>duration</th>\n",
       "      <th>credit_history</th>\n",
       "      <th>purpose</th>\n",
       "      <th>credit_amount</th>\n",
       "      <th>savings_status</th>\n",
       "      <th>employment</th>\n",
       "      <th>installment_commitment</th>\n",
       "      <th>personal_status</th>\n",
       "      <th>other_parties</th>\n",
       "      <th>residence_since</th>\n",
       "      <th>property_magnitude</th>\n",
       "      <th>age</th>\n",
       "      <th>other_payment_plans</th>\n",
       "      <th>housing</th>\n",
       "      <th>existing_credits</th>\n",
       "      <th>job</th>\n",
       "      <th>num_dependents</th>\n",
       "      <th>own_telephone</th>\n",
       "      <th>foreign_worker</th>\n",
       "    </tr>\n",
       "  </thead>\n",
       "  <tbody>\n",
       "    <tr>\n",
       "      <th>0</th>\n",
       "      <td>&lt;0</td>\n",
       "      <td>6.0</td>\n",
       "      <td>critical/other existing credit</td>\n",
       "      <td>radio/tv</td>\n",
       "      <td>1169.0</td>\n",
       "      <td>no known savings</td>\n",
       "      <td>&gt;=7</td>\n",
       "      <td>4.0</td>\n",
       "      <td>male single</td>\n",
       "      <td>none</td>\n",
       "      <td>4.0</td>\n",
       "      <td>real estate</td>\n",
       "      <td>67.0</td>\n",
       "      <td>none</td>\n",
       "      <td>own</td>\n",
       "      <td>2.0</td>\n",
       "      <td>skilled</td>\n",
       "      <td>1.0</td>\n",
       "      <td>yes</td>\n",
       "      <td>yes</td>\n",
       "    </tr>\n",
       "    <tr>\n",
       "      <th>1</th>\n",
       "      <td>0&lt;=X&lt;200</td>\n",
       "      <td>48.0</td>\n",
       "      <td>existing paid</td>\n",
       "      <td>radio/tv</td>\n",
       "      <td>5951.0</td>\n",
       "      <td>&lt;100</td>\n",
       "      <td>1&lt;=X&lt;4</td>\n",
       "      <td>2.0</td>\n",
       "      <td>female div/dep/mar</td>\n",
       "      <td>none</td>\n",
       "      <td>2.0</td>\n",
       "      <td>real estate</td>\n",
       "      <td>22.0</td>\n",
       "      <td>none</td>\n",
       "      <td>own</td>\n",
       "      <td>1.0</td>\n",
       "      <td>skilled</td>\n",
       "      <td>1.0</td>\n",
       "      <td>none</td>\n",
       "      <td>yes</td>\n",
       "    </tr>\n",
       "    <tr>\n",
       "      <th>2</th>\n",
       "      <td>no checking</td>\n",
       "      <td>12.0</td>\n",
       "      <td>critical/other existing credit</td>\n",
       "      <td>education</td>\n",
       "      <td>2096.0</td>\n",
       "      <td>&lt;100</td>\n",
       "      <td>4&lt;=X&lt;7</td>\n",
       "      <td>2.0</td>\n",
       "      <td>male single</td>\n",
       "      <td>none</td>\n",
       "      <td>3.0</td>\n",
       "      <td>real estate</td>\n",
       "      <td>49.0</td>\n",
       "      <td>none</td>\n",
       "      <td>own</td>\n",
       "      <td>1.0</td>\n",
       "      <td>unskilled resident</td>\n",
       "      <td>2.0</td>\n",
       "      <td>none</td>\n",
       "      <td>yes</td>\n",
       "    </tr>\n",
       "  </tbody>\n",
       "</table>\n",
       "</div>"
      ],
      "text/plain": [
       "  checking_status  duration                  credit_history    purpose  \\\n",
       "0              <0       6.0  critical/other existing credit   radio/tv   \n",
       "1        0<=X<200      48.0                   existing paid   radio/tv   \n",
       "2     no checking      12.0  critical/other existing credit  education   \n",
       "\n",
       "   credit_amount    savings_status employment  installment_commitment  \\\n",
       "0         1169.0  no known savings        >=7                     4.0   \n",
       "1         5951.0              <100     1<=X<4                     2.0   \n",
       "2         2096.0              <100     4<=X<7                     2.0   \n",
       "\n",
       "      personal_status other_parties  residence_since property_magnitude   age  \\\n",
       "0         male single          none              4.0        real estate  67.0   \n",
       "1  female div/dep/mar          none              2.0        real estate  22.0   \n",
       "2         male single          none              3.0        real estate  49.0   \n",
       "\n",
       "  other_payment_plans housing  existing_credits                 job  \\\n",
       "0                none     own               2.0             skilled   \n",
       "1                none     own               1.0             skilled   \n",
       "2                none     own               1.0  unskilled resident   \n",
       "\n",
       "   num_dependents own_telephone foreign_worker  \n",
       "0             1.0           yes            yes  \n",
       "1             1.0          none            yes  \n",
       "2             2.0          none            yes  "
      ]
     },
     "execution_count": 2,
     "metadata": {},
     "output_type": "execute_result"
    }
   ],
   "source": [
    "# Import data from openml\n",
    "credit_df = fetch_openml(data_id=31)\n",
    "\n",
    "# Take a quick glimpse at the data\n",
    "credit_df.data.head(3)"
   ]
  },
  {
   "cell_type": "code",
   "execution_count": 3,
   "id": "47973524",
   "metadata": {},
   "outputs": [
    {
     "data": {
      "text/plain": [
       "0    good\n",
       "1     bad\n",
       "2    good\n",
       "Name: class, dtype: category\n",
       "Categories (2, object): ['good', 'bad']"
      ]
     },
     "execution_count": 3,
     "metadata": {},
     "output_type": "execute_result"
    }
   ],
   "source": [
    "# Take a look at the target feature -- 'class'\n",
    "credit_df.target.head(3)"
   ]
  },
  {
   "cell_type": "code",
   "execution_count": 4,
   "id": "31ceeeb3",
   "metadata": {},
   "outputs": [
    {
     "data": {
      "text/html": [
       "<div>\n",
       "<style scoped>\n",
       "    .dataframe tbody tr th:only-of-type {\n",
       "        vertical-align: middle;\n",
       "    }\n",
       "\n",
       "    .dataframe tbody tr th {\n",
       "        vertical-align: top;\n",
       "    }\n",
       "\n",
       "    .dataframe thead th {\n",
       "        text-align: right;\n",
       "    }\n",
       "</style>\n",
       "<table border=\"1\" class=\"dataframe\">\n",
       "  <thead>\n",
       "    <tr style=\"text-align: right;\">\n",
       "      <th></th>\n",
       "      <th>checking_status</th>\n",
       "      <th>duration</th>\n",
       "      <th>credit_history</th>\n",
       "      <th>purpose</th>\n",
       "      <th>credit_amount</th>\n",
       "      <th>savings_status</th>\n",
       "      <th>employment</th>\n",
       "      <th>installment_commitment</th>\n",
       "      <th>personal_status</th>\n",
       "      <th>other_parties</th>\n",
       "      <th>...</th>\n",
       "      <th>property_magnitude</th>\n",
       "      <th>age</th>\n",
       "      <th>other_payment_plans</th>\n",
       "      <th>housing</th>\n",
       "      <th>existing_credits</th>\n",
       "      <th>job</th>\n",
       "      <th>num_dependents</th>\n",
       "      <th>own_telephone</th>\n",
       "      <th>foreign_worker</th>\n",
       "      <th>class</th>\n",
       "    </tr>\n",
       "  </thead>\n",
       "  <tbody>\n",
       "    <tr>\n",
       "      <th>0</th>\n",
       "      <td>&lt;0</td>\n",
       "      <td>6.0</td>\n",
       "      <td>critical/other existing credit</td>\n",
       "      <td>radio/tv</td>\n",
       "      <td>1169.0</td>\n",
       "      <td>no known savings</td>\n",
       "      <td>&gt;=7</td>\n",
       "      <td>4.0</td>\n",
       "      <td>male single</td>\n",
       "      <td>none</td>\n",
       "      <td>...</td>\n",
       "      <td>real estate</td>\n",
       "      <td>67.0</td>\n",
       "      <td>none</td>\n",
       "      <td>own</td>\n",
       "      <td>2.0</td>\n",
       "      <td>skilled</td>\n",
       "      <td>1.0</td>\n",
       "      <td>yes</td>\n",
       "      <td>yes</td>\n",
       "      <td>good</td>\n",
       "    </tr>\n",
       "    <tr>\n",
       "      <th>1</th>\n",
       "      <td>0&lt;=X&lt;200</td>\n",
       "      <td>48.0</td>\n",
       "      <td>existing paid</td>\n",
       "      <td>radio/tv</td>\n",
       "      <td>5951.0</td>\n",
       "      <td>&lt;100</td>\n",
       "      <td>1&lt;=X&lt;4</td>\n",
       "      <td>2.0</td>\n",
       "      <td>female div/dep/mar</td>\n",
       "      <td>none</td>\n",
       "      <td>...</td>\n",
       "      <td>real estate</td>\n",
       "      <td>22.0</td>\n",
       "      <td>none</td>\n",
       "      <td>own</td>\n",
       "      <td>1.0</td>\n",
       "      <td>skilled</td>\n",
       "      <td>1.0</td>\n",
       "      <td>none</td>\n",
       "      <td>yes</td>\n",
       "      <td>bad</td>\n",
       "    </tr>\n",
       "    <tr>\n",
       "      <th>2</th>\n",
       "      <td>no checking</td>\n",
       "      <td>12.0</td>\n",
       "      <td>critical/other existing credit</td>\n",
       "      <td>education</td>\n",
       "      <td>2096.0</td>\n",
       "      <td>&lt;100</td>\n",
       "      <td>4&lt;=X&lt;7</td>\n",
       "      <td>2.0</td>\n",
       "      <td>male single</td>\n",
       "      <td>none</td>\n",
       "      <td>...</td>\n",
       "      <td>real estate</td>\n",
       "      <td>49.0</td>\n",
       "      <td>none</td>\n",
       "      <td>own</td>\n",
       "      <td>1.0</td>\n",
       "      <td>unskilled resident</td>\n",
       "      <td>2.0</td>\n",
       "      <td>none</td>\n",
       "      <td>yes</td>\n",
       "      <td>good</td>\n",
       "    </tr>\n",
       "  </tbody>\n",
       "</table>\n",
       "<p>3 rows × 21 columns</p>\n",
       "</div>"
      ],
      "text/plain": [
       "  checking_status  duration                  credit_history    purpose  \\\n",
       "0              <0       6.0  critical/other existing credit   radio/tv   \n",
       "1        0<=X<200      48.0                   existing paid   radio/tv   \n",
       "2     no checking      12.0  critical/other existing credit  education   \n",
       "\n",
       "   credit_amount    savings_status employment  installment_commitment  \\\n",
       "0         1169.0  no known savings        >=7                     4.0   \n",
       "1         5951.0              <100     1<=X<4                     2.0   \n",
       "2         2096.0              <100     4<=X<7                     2.0   \n",
       "\n",
       "      personal_status other_parties  ...  property_magnitude   age  \\\n",
       "0         male single          none  ...         real estate  67.0   \n",
       "1  female div/dep/mar          none  ...         real estate  22.0   \n",
       "2         male single          none  ...         real estate  49.0   \n",
       "\n",
       "   other_payment_plans housing existing_credits                 job  \\\n",
       "0                 none     own              2.0             skilled   \n",
       "1                 none     own              1.0             skilled   \n",
       "2                 none     own              1.0  unskilled resident   \n",
       "\n",
       "  num_dependents  own_telephone foreign_worker class  \n",
       "0            1.0            yes            yes  good  \n",
       "1            1.0           none            yes   bad  \n",
       "2            2.0           none            yes  good  \n",
       "\n",
       "[3 rows x 21 columns]"
      ]
     },
     "execution_count": 4,
     "metadata": {},
     "output_type": "execute_result"
    }
   ],
   "source": [
    "# Merge the credit data and target\n",
    "credit_df = pd.concat([credit_df.data, credit_df.target], axis=1)\n",
    "credit_df.head(3)"
   ]
  },
  {
   "cell_type": "code",
   "execution_count": 5,
   "id": "cd2da647",
   "metadata": {},
   "outputs": [
    {
     "data": {
      "text/plain": [
       "2"
      ]
     },
     "execution_count": 5,
     "metadata": {},
     "output_type": "execute_result"
    }
   ],
   "source": [
    "# Get the number of unique variables in the target feature\n",
    "credit_df['class'].nunique()"
   ]
  },
  {
   "cell_type": "code",
   "execution_count": 6,
   "id": "85fffa33",
   "metadata": {},
   "outputs": [
    {
     "data": {
      "text/plain": [
       "0    0\n",
       "1    1\n",
       "2    0\n",
       "Name: class, dtype: int64"
      ]
     },
     "execution_count": 6,
     "metadata": {},
     "output_type": "execute_result"
    }
   ],
   "source": [
    "# Convert the target variable from string to integer -- '0' represents a 'good credit' and '1' represents 'bad credit'\n",
    "credit_df['class'] = (credit_df['class'] == 'bad').astype('int')\n",
    "credit_df['class'].head(3)"
   ]
  },
  {
   "cell_type": "code",
   "execution_count": 7,
   "id": "80dc2e04",
   "metadata": {},
   "outputs": [
    {
     "data": {
      "text/plain": [
       "0.3"
      ]
     },
     "execution_count": 7,
     "metadata": {},
     "output_type": "execute_result"
    }
   ],
   "source": [
    "# Percentage of the target variable that is classed as 'bad credit'\n",
    "credit_df['class'].mean()"
   ]
  },
  {
   "cell_type": "code",
   "execution_count": 8,
   "id": "be51fb05",
   "metadata": {},
   "outputs": [
    {
     "name": "stdout",
     "output_type": "stream",
     "text": [
      "<class 'pandas.core.frame.DataFrame'>\n",
      "RangeIndex: 1000 entries, 0 to 999\n",
      "Data columns (total 21 columns):\n",
      " #   Column                  Non-Null Count  Dtype   \n",
      "---  ------                  --------------  -----   \n",
      " 0   checking_status         1000 non-null   category\n",
      " 1   duration                1000 non-null   float64 \n",
      " 2   credit_history          1000 non-null   category\n",
      " 3   purpose                 1000 non-null   category\n",
      " 4   credit_amount           1000 non-null   float64 \n",
      " 5   savings_status          1000 non-null   category\n",
      " 6   employment              1000 non-null   category\n",
      " 7   installment_commitment  1000 non-null   float64 \n",
      " 8   personal_status         1000 non-null   category\n",
      " 9   other_parties           1000 non-null   category\n",
      " 10  residence_since         1000 non-null   float64 \n",
      " 11  property_magnitude      1000 non-null   category\n",
      " 12  age                     1000 non-null   float64 \n",
      " 13  other_payment_plans     1000 non-null   category\n",
      " 14  housing                 1000 non-null   category\n",
      " 15  existing_credits        1000 non-null   float64 \n",
      " 16  job                     1000 non-null   category\n",
      " 17  num_dependents          1000 non-null   float64 \n",
      " 18  own_telephone           1000 non-null   category\n",
      " 19  foreign_worker          1000 non-null   category\n",
      " 20  class                   1000 non-null   int64   \n",
      "dtypes: category(13), float64(7), int64(1)\n",
      "memory usage: 77.8 KB\n"
     ]
    }
   ],
   "source": [
    "# Summary of Data\n",
    "# This dataset contains 21 features and 1000 attributes\n",
    "credit_df.info()"
   ]
  },
  {
   "cell_type": "code",
   "execution_count": 9,
   "id": "a4adef44",
   "metadata": {},
   "outputs": [
    {
     "data": {
      "text/plain": [
       "checking_status           category\n",
       "duration                   float64\n",
       "credit_history            category\n",
       "purpose                   category\n",
       "credit_amount              float64\n",
       "savings_status            category\n",
       "employment                category\n",
       "installment_commitment     float64\n",
       "personal_status           category\n",
       "other_parties             category\n",
       "residence_since            float64\n",
       "property_magnitude        category\n",
       "age                        float64\n",
       "other_payment_plans       category\n",
       "housing                   category\n",
       "existing_credits           float64\n",
       "job                       category\n",
       "num_dependents             float64\n",
       "own_telephone             category\n",
       "foreign_worker            category\n",
       "class                        int64\n",
       "dtype: object"
      ]
     },
     "execution_count": 9,
     "metadata": {},
     "output_type": "execute_result"
    }
   ],
   "source": [
    "# Check the datatypes of the features\n",
    "# 13 features are category, 7 are float64, 1(target) is integer\n",
    "credit_df.dtypes"
   ]
  },
  {
   "cell_type": "code",
   "execution_count": 10,
   "id": "149a60cb",
   "metadata": {},
   "outputs": [
    {
     "data": {
      "text/html": [
       "<div>\n",
       "<style scoped>\n",
       "    .dataframe tbody tr th:only-of-type {\n",
       "        vertical-align: middle;\n",
       "    }\n",
       "\n",
       "    .dataframe tbody tr th {\n",
       "        vertical-align: top;\n",
       "    }\n",
       "\n",
       "    .dataframe thead th {\n",
       "        text-align: right;\n",
       "    }\n",
       "</style>\n",
       "<table border=\"1\" class=\"dataframe\">\n",
       "  <thead>\n",
       "    <tr style=\"text-align: right;\">\n",
       "      <th></th>\n",
       "      <th>0</th>\n",
       "      <th>1</th>\n",
       "      <th>2</th>\n",
       "    </tr>\n",
       "  </thead>\n",
       "  <tbody>\n",
       "    <tr>\n",
       "      <th>checking_status</th>\n",
       "      <td>&lt;0</td>\n",
       "      <td>0&lt;=X&lt;200</td>\n",
       "      <td>no checking</td>\n",
       "    </tr>\n",
       "    <tr>\n",
       "      <th>credit_history</th>\n",
       "      <td>critical/other existing credit</td>\n",
       "      <td>existing paid</td>\n",
       "      <td>critical/other existing credit</td>\n",
       "    </tr>\n",
       "    <tr>\n",
       "      <th>purpose</th>\n",
       "      <td>radio/tv</td>\n",
       "      <td>radio/tv</td>\n",
       "      <td>education</td>\n",
       "    </tr>\n",
       "    <tr>\n",
       "      <th>savings_status</th>\n",
       "      <td>no known savings</td>\n",
       "      <td>&lt;100</td>\n",
       "      <td>&lt;100</td>\n",
       "    </tr>\n",
       "    <tr>\n",
       "      <th>employment</th>\n",
       "      <td>&gt;=7</td>\n",
       "      <td>1&lt;=X&lt;4</td>\n",
       "      <td>4&lt;=X&lt;7</td>\n",
       "    </tr>\n",
       "    <tr>\n",
       "      <th>personal_status</th>\n",
       "      <td>male single</td>\n",
       "      <td>female div/dep/mar</td>\n",
       "      <td>male single</td>\n",
       "    </tr>\n",
       "    <tr>\n",
       "      <th>other_parties</th>\n",
       "      <td>none</td>\n",
       "      <td>none</td>\n",
       "      <td>none</td>\n",
       "    </tr>\n",
       "    <tr>\n",
       "      <th>property_magnitude</th>\n",
       "      <td>real estate</td>\n",
       "      <td>real estate</td>\n",
       "      <td>real estate</td>\n",
       "    </tr>\n",
       "    <tr>\n",
       "      <th>other_payment_plans</th>\n",
       "      <td>none</td>\n",
       "      <td>none</td>\n",
       "      <td>none</td>\n",
       "    </tr>\n",
       "    <tr>\n",
       "      <th>housing</th>\n",
       "      <td>own</td>\n",
       "      <td>own</td>\n",
       "      <td>own</td>\n",
       "    </tr>\n",
       "    <tr>\n",
       "      <th>job</th>\n",
       "      <td>skilled</td>\n",
       "      <td>skilled</td>\n",
       "      <td>unskilled resident</td>\n",
       "    </tr>\n",
       "    <tr>\n",
       "      <th>own_telephone</th>\n",
       "      <td>yes</td>\n",
       "      <td>none</td>\n",
       "      <td>none</td>\n",
       "    </tr>\n",
       "    <tr>\n",
       "      <th>foreign_worker</th>\n",
       "      <td>yes</td>\n",
       "      <td>yes</td>\n",
       "      <td>yes</td>\n",
       "    </tr>\n",
       "  </tbody>\n",
       "</table>\n",
       "</div>"
      ],
      "text/plain": [
       "                                                  0                   1  \\\n",
       "checking_status                                  <0            0<=X<200   \n",
       "credit_history       critical/other existing credit       existing paid   \n",
       "purpose                                    radio/tv            radio/tv   \n",
       "savings_status                     no known savings                <100   \n",
       "employment                                      >=7              1<=X<4   \n",
       "personal_status                         male single  female div/dep/mar   \n",
       "other_parties                                  none                none   \n",
       "property_magnitude                      real estate         real estate   \n",
       "other_payment_plans                            none                none   \n",
       "housing                                         own                 own   \n",
       "job                                         skilled             skilled   \n",
       "own_telephone                                   yes                none   \n",
       "foreign_worker                                  yes                 yes   \n",
       "\n",
       "                                                  2  \n",
       "checking_status                         no checking  \n",
       "credit_history       critical/other existing credit  \n",
       "purpose                                   education  \n",
       "savings_status                                 <100  \n",
       "employment                                   4<=X<7  \n",
       "personal_status                         male single  \n",
       "other_parties                                  none  \n",
       "property_magnitude                      real estate  \n",
       "other_payment_plans                            none  \n",
       "housing                                         own  \n",
       "job                              unskilled resident  \n",
       "own_telephone                                  none  \n",
       "foreign_worker                                  yes  "
      ]
     },
     "execution_count": 10,
     "metadata": {},
     "output_type": "execute_result"
    }
   ],
   "source": [
    "# Look at features with data type - 'category'\n",
    "credit_df.select_dtypes(include='category').head(3).T"
   ]
  },
  {
   "cell_type": "markdown",
   "id": "77a65898",
   "metadata": {},
   "source": [
    "## Setting up validation framework\n",
    "Set up of the validation framework before further analysis"
   ]
  },
  {
   "cell_type": "code",
   "execution_count": 11,
   "id": "fdf4d851",
   "metadata": {},
   "outputs": [],
   "source": [
    "# Split data into train, validation, test\n",
    "from sklearn.model_selection import train_test_split\n",
    "\n",
    "df_full_train, df_test = train_test_split(credit_df, test_size=0.2, random_state=1)\n",
    "df_train, df_val = train_test_split(df_full_train, test_size=0.25, random_state=1)"
   ]
  },
  {
   "cell_type": "code",
   "execution_count": 12,
   "id": "2953e910",
   "metadata": {},
   "outputs": [
    {
     "data": {
      "text/plain": [
       "(800, 600, 200, 200)"
      ]
     },
     "execution_count": 12,
     "metadata": {},
     "output_type": "execute_result"
    }
   ],
   "source": [
    "len(df_full_train), len(df_train), len(df_val), len(df_test)"
   ]
  },
  {
   "cell_type": "code",
   "execution_count": 13,
   "id": "fe56e7f0",
   "metadata": {},
   "outputs": [
    {
     "data": {
      "text/html": [
       "<div>\n",
       "<style scoped>\n",
       "    .dataframe tbody tr th:only-of-type {\n",
       "        vertical-align: middle;\n",
       "    }\n",
       "\n",
       "    .dataframe tbody tr th {\n",
       "        vertical-align: top;\n",
       "    }\n",
       "\n",
       "    .dataframe thead th {\n",
       "        text-align: right;\n",
       "    }\n",
       "</style>\n",
       "<table border=\"1\" class=\"dataframe\">\n",
       "  <thead>\n",
       "    <tr style=\"text-align: right;\">\n",
       "      <th></th>\n",
       "      <th>checking_status</th>\n",
       "      <th>duration</th>\n",
       "      <th>credit_history</th>\n",
       "      <th>purpose</th>\n",
       "      <th>credit_amount</th>\n",
       "      <th>savings_status</th>\n",
       "      <th>employment</th>\n",
       "      <th>installment_commitment</th>\n",
       "      <th>personal_status</th>\n",
       "      <th>other_parties</th>\n",
       "      <th>...</th>\n",
       "      <th>property_magnitude</th>\n",
       "      <th>age</th>\n",
       "      <th>other_payment_plans</th>\n",
       "      <th>housing</th>\n",
       "      <th>existing_credits</th>\n",
       "      <th>job</th>\n",
       "      <th>num_dependents</th>\n",
       "      <th>own_telephone</th>\n",
       "      <th>foreign_worker</th>\n",
       "      <th>class</th>\n",
       "    </tr>\n",
       "  </thead>\n",
       "  <tbody>\n",
       "    <tr>\n",
       "      <th>0</th>\n",
       "      <td>0&lt;=X&lt;200</td>\n",
       "      <td>30.0</td>\n",
       "      <td>critical/other existing credit</td>\n",
       "      <td>new car</td>\n",
       "      <td>2181.0</td>\n",
       "      <td>no known savings</td>\n",
       "      <td>&gt;=7</td>\n",
       "      <td>4.0</td>\n",
       "      <td>male single</td>\n",
       "      <td>none</td>\n",
       "      <td>...</td>\n",
       "      <td>real estate</td>\n",
       "      <td>36.0</td>\n",
       "      <td>none</td>\n",
       "      <td>own</td>\n",
       "      <td>2.0</td>\n",
       "      <td>skilled</td>\n",
       "      <td>1.0</td>\n",
       "      <td>none</td>\n",
       "      <td>yes</td>\n",
       "      <td>0</td>\n",
       "    </tr>\n",
       "    <tr>\n",
       "      <th>1</th>\n",
       "      <td>no checking</td>\n",
       "      <td>18.0</td>\n",
       "      <td>existing paid</td>\n",
       "      <td>new car</td>\n",
       "      <td>6761.0</td>\n",
       "      <td>no known savings</td>\n",
       "      <td>1&lt;=X&lt;4</td>\n",
       "      <td>2.0</td>\n",
       "      <td>male single</td>\n",
       "      <td>none</td>\n",
       "      <td>...</td>\n",
       "      <td>car</td>\n",
       "      <td>68.0</td>\n",
       "      <td>none</td>\n",
       "      <td>rent</td>\n",
       "      <td>2.0</td>\n",
       "      <td>skilled</td>\n",
       "      <td>1.0</td>\n",
       "      <td>none</td>\n",
       "      <td>yes</td>\n",
       "      <td>1</td>\n",
       "    </tr>\n",
       "    <tr>\n",
       "      <th>2</th>\n",
       "      <td>&gt;=200</td>\n",
       "      <td>10.0</td>\n",
       "      <td>existing paid</td>\n",
       "      <td>furniture/equipment</td>\n",
       "      <td>1275.0</td>\n",
       "      <td>&lt;100</td>\n",
       "      <td>&lt;1</td>\n",
       "      <td>4.0</td>\n",
       "      <td>female div/dep/mar</td>\n",
       "      <td>none</td>\n",
       "      <td>...</td>\n",
       "      <td>life insurance</td>\n",
       "      <td>23.0</td>\n",
       "      <td>none</td>\n",
       "      <td>own</td>\n",
       "      <td>1.0</td>\n",
       "      <td>skilled</td>\n",
       "      <td>1.0</td>\n",
       "      <td>none</td>\n",
       "      <td>yes</td>\n",
       "      <td>0</td>\n",
       "    </tr>\n",
       "  </tbody>\n",
       "</table>\n",
       "<p>3 rows × 21 columns</p>\n",
       "</div>"
      ],
      "text/plain": [
       "  checking_status  duration                  credit_history  \\\n",
       "0        0<=X<200      30.0  critical/other existing credit   \n",
       "1     no checking      18.0                   existing paid   \n",
       "2           >=200      10.0                   existing paid   \n",
       "\n",
       "               purpose  credit_amount    savings_status employment  \\\n",
       "0              new car         2181.0  no known savings        >=7   \n",
       "1              new car         6761.0  no known savings     1<=X<4   \n",
       "2  furniture/equipment         1275.0              <100         <1   \n",
       "\n",
       "   installment_commitment     personal_status other_parties  ...  \\\n",
       "0                     4.0         male single          none  ...   \n",
       "1                     2.0         male single          none  ...   \n",
       "2                     4.0  female div/dep/mar          none  ...   \n",
       "\n",
       "   property_magnitude   age  other_payment_plans housing existing_credits  \\\n",
       "0         real estate  36.0                 none     own              2.0   \n",
       "1                 car  68.0                 none    rent              2.0   \n",
       "2      life insurance  23.0                 none     own              1.0   \n",
       "\n",
       "       job num_dependents  own_telephone foreign_worker class  \n",
       "0  skilled            1.0           none            yes     0  \n",
       "1  skilled            1.0           none            yes     1  \n",
       "2  skilled            1.0           none            yes     0  \n",
       "\n",
       "[3 rows x 21 columns]"
      ]
     },
     "execution_count": 13,
     "metadata": {},
     "output_type": "execute_result"
    }
   ],
   "source": [
    "df_full_train = df_full_train.reset_index(drop=True)\n",
    "df_train = df_train.reset_index(drop=True)\n",
    "df_val = df_val.reset_index(drop=True)\n",
    "df_test = df_test.reset_index(drop=True)\n",
    "\n",
    "df_train.head(3)"
   ]
  },
  {
   "cell_type": "code",
   "execution_count": 14,
   "id": "33d488a1",
   "metadata": {},
   "outputs": [],
   "source": [
    "y_train = df_train['class'].values\n",
    "y_val = df_val['class'].values\n",
    "y_test = df_test['class'].values\n",
    "\n",
    "\n",
    "del df_train['class']\n",
    "del df_val['class']\n",
    "del df_test['class']"
   ]
  },
  {
   "cell_type": "code",
   "execution_count": 15,
   "id": "984c079a",
   "metadata": {},
   "outputs": [],
   "source": [
    "df_full = df_full_train.copy()\n",
    "y_full = df_full['class']\n",
    "\n",
    "del df_full['class']"
   ]
  },
  {
   "cell_type": "markdown",
   "id": "17c9c398",
   "metadata": {},
   "source": [
    "## EDA\n",
    "\n",
    "- Check missing values\n",
    "- Look at the target variable (class)\n",
    "- Look at numerical and categorical variables"
   ]
  },
  {
   "cell_type": "code",
   "execution_count": 16,
   "id": "ae2cfbde",
   "metadata": {},
   "outputs": [
    {
     "data": {
      "text/html": [
       "<div>\n",
       "<style scoped>\n",
       "    .dataframe tbody tr th:only-of-type {\n",
       "        vertical-align: middle;\n",
       "    }\n",
       "\n",
       "    .dataframe tbody tr th {\n",
       "        vertical-align: top;\n",
       "    }\n",
       "\n",
       "    .dataframe thead th {\n",
       "        text-align: right;\n",
       "    }\n",
       "</style>\n",
       "<table border=\"1\" class=\"dataframe\">\n",
       "  <thead>\n",
       "    <tr style=\"text-align: right;\">\n",
       "      <th></th>\n",
       "      <th>checking_status</th>\n",
       "      <th>duration</th>\n",
       "      <th>credit_history</th>\n",
       "      <th>purpose</th>\n",
       "      <th>credit_amount</th>\n",
       "      <th>savings_status</th>\n",
       "      <th>employment</th>\n",
       "      <th>installment_commitment</th>\n",
       "      <th>personal_status</th>\n",
       "      <th>other_parties</th>\n",
       "      <th>...</th>\n",
       "      <th>property_magnitude</th>\n",
       "      <th>age</th>\n",
       "      <th>other_payment_plans</th>\n",
       "      <th>housing</th>\n",
       "      <th>existing_credits</th>\n",
       "      <th>job</th>\n",
       "      <th>num_dependents</th>\n",
       "      <th>own_telephone</th>\n",
       "      <th>foreign_worker</th>\n",
       "      <th>class</th>\n",
       "    </tr>\n",
       "  </thead>\n",
       "  <tbody>\n",
       "    <tr>\n",
       "      <th>0</th>\n",
       "      <td>no checking</td>\n",
       "      <td>22.0</td>\n",
       "      <td>existing paid</td>\n",
       "      <td>new car</td>\n",
       "      <td>1283.0</td>\n",
       "      <td>no known savings</td>\n",
       "      <td>4&lt;=X&lt;7</td>\n",
       "      <td>4.0</td>\n",
       "      <td>female div/dep/mar</td>\n",
       "      <td>none</td>\n",
       "      <td>...</td>\n",
       "      <td>life insurance</td>\n",
       "      <td>25.0</td>\n",
       "      <td>none</td>\n",
       "      <td>rent</td>\n",
       "      <td>1.0</td>\n",
       "      <td>skilled</td>\n",
       "      <td>1.0</td>\n",
       "      <td>none</td>\n",
       "      <td>yes</td>\n",
       "      <td>0</td>\n",
       "    </tr>\n",
       "    <tr>\n",
       "      <th>1</th>\n",
       "      <td>no checking</td>\n",
       "      <td>12.0</td>\n",
       "      <td>existing paid</td>\n",
       "      <td>new car</td>\n",
       "      <td>2390.0</td>\n",
       "      <td>no known savings</td>\n",
       "      <td>&gt;=7</td>\n",
       "      <td>4.0</td>\n",
       "      <td>male single</td>\n",
       "      <td>none</td>\n",
       "      <td>...</td>\n",
       "      <td>car</td>\n",
       "      <td>50.0</td>\n",
       "      <td>none</td>\n",
       "      <td>own</td>\n",
       "      <td>1.0</td>\n",
       "      <td>skilled</td>\n",
       "      <td>1.0</td>\n",
       "      <td>yes</td>\n",
       "      <td>yes</td>\n",
       "      <td>0</td>\n",
       "    </tr>\n",
       "    <tr>\n",
       "      <th>2</th>\n",
       "      <td>&gt;=200</td>\n",
       "      <td>21.0</td>\n",
       "      <td>existing paid</td>\n",
       "      <td>new car</td>\n",
       "      <td>2923.0</td>\n",
       "      <td>100&lt;=X&lt;500</td>\n",
       "      <td>1&lt;=X&lt;4</td>\n",
       "      <td>1.0</td>\n",
       "      <td>female div/dep/mar</td>\n",
       "      <td>none</td>\n",
       "      <td>...</td>\n",
       "      <td>car</td>\n",
       "      <td>28.0</td>\n",
       "      <td>bank</td>\n",
       "      <td>own</td>\n",
       "      <td>1.0</td>\n",
       "      <td>high qualif/self emp/mgmt</td>\n",
       "      <td>1.0</td>\n",
       "      <td>yes</td>\n",
       "      <td>yes</td>\n",
       "      <td>0</td>\n",
       "    </tr>\n",
       "  </tbody>\n",
       "</table>\n",
       "<p>3 rows × 21 columns</p>\n",
       "</div>"
      ],
      "text/plain": [
       "  checking_status  duration credit_history  purpose  credit_amount  \\\n",
       "0     no checking      22.0  existing paid  new car         1283.0   \n",
       "1     no checking      12.0  existing paid  new car         2390.0   \n",
       "2           >=200      21.0  existing paid  new car         2923.0   \n",
       "\n",
       "     savings_status employment  installment_commitment     personal_status  \\\n",
       "0  no known savings     4<=X<7                     4.0  female div/dep/mar   \n",
       "1  no known savings        >=7                     4.0         male single   \n",
       "2        100<=X<500     1<=X<4                     1.0  female div/dep/mar   \n",
       "\n",
       "  other_parties  ...  property_magnitude   age  other_payment_plans housing  \\\n",
       "0          none  ...      life insurance  25.0                 none    rent   \n",
       "1          none  ...                 car  50.0                 none     own   \n",
       "2          none  ...                 car  28.0                 bank     own   \n",
       "\n",
       "  existing_credits                        job num_dependents  own_telephone  \\\n",
       "0              1.0                    skilled            1.0           none   \n",
       "1              1.0                    skilled            1.0            yes   \n",
       "2              1.0  high qualif/self emp/mgmt            1.0            yes   \n",
       "\n",
       "  foreign_worker class  \n",
       "0            yes     0  \n",
       "1            yes     0  \n",
       "2            yes     0  \n",
       "\n",
       "[3 rows x 21 columns]"
      ]
     },
     "execution_count": 16,
     "metadata": {},
     "output_type": "execute_result"
    }
   ],
   "source": [
    "df_full_train.head(3)"
   ]
  },
  {
   "cell_type": "code",
   "execution_count": 17,
   "id": "ca4e21c6",
   "metadata": {},
   "outputs": [
    {
     "data": {
      "text/plain": [
       "checking_status           0\n",
       "duration                  0\n",
       "credit_history            0\n",
       "purpose                   0\n",
       "credit_amount             0\n",
       "savings_status            0\n",
       "employment                0\n",
       "installment_commitment    0\n",
       "personal_status           0\n",
       "other_parties             0\n",
       "residence_since           0\n",
       "property_magnitude        0\n",
       "age                       0\n",
       "other_payment_plans       0\n",
       "housing                   0\n",
       "existing_credits          0\n",
       "job                       0\n",
       "num_dependents            0\n",
       "own_telephone             0\n",
       "foreign_worker            0\n",
       "class                     0\n",
       "dtype: int64"
      ]
     },
     "execution_count": 17,
     "metadata": {},
     "output_type": "execute_result"
    }
   ],
   "source": [
    "df_full_train.isnull().sum()"
   ]
  },
  {
   "cell_type": "code",
   "execution_count": 18,
   "id": "a119b839",
   "metadata": {},
   "outputs": [
    {
     "data": {
      "text/plain": [
       "0    0.69875\n",
       "1    0.30125\n",
       "Name: class, dtype: float64"
      ]
     },
     "execution_count": 18,
     "metadata": {},
     "output_type": "execute_result"
    }
   ],
   "source": [
    "# Percentage of df_full_train 'class' that are good or bad credit\n",
    "df_full_train['class'].value_counts(normalize=True)"
   ]
  },
  {
   "cell_type": "code",
   "execution_count": 19,
   "id": "8c3b5f5d",
   "metadata": {},
   "outputs": [
    {
     "data": {
      "text/plain": [
       "0.30125"
      ]
     },
     "execution_count": 19,
     "metadata": {},
     "output_type": "execute_result"
    }
   ],
   "source": [
    "df_full_train['class'].mean()"
   ]
  },
  {
   "cell_type": "code",
   "execution_count": 20,
   "id": "74c82c15",
   "metadata": {},
   "outputs": [
    {
     "data": {
      "text/plain": [
       "checking_status         4\n",
       "credit_history          5\n",
       "purpose                10\n",
       "savings_status          5\n",
       "employment              5\n",
       "personal_status         4\n",
       "other_parties           3\n",
       "property_magnitude      4\n",
       "other_payment_plans     3\n",
       "housing                 3\n",
       "job                     4\n",
       "own_telephone           2\n",
       "foreign_worker          2\n",
       "dtype: int64"
      ]
     },
     "execution_count": 20,
     "metadata": {},
     "output_type": "execute_result"
    }
   ],
   "source": [
    "# Check the number of unique variables in each category\n",
    "df_full_train.select_dtypes(include='category').nunique()"
   ]
  },
  {
   "cell_type": "code",
   "execution_count": 21,
   "id": "b0cfde24",
   "metadata": {},
   "outputs": [
    {
     "data": {
      "text/plain": [
       "['checking_status',\n",
       " 'credit_history',\n",
       " 'purpose',\n",
       " 'savings_status',\n",
       " 'employment',\n",
       " 'personal_status',\n",
       " 'other_parties',\n",
       " 'property_magnitude',\n",
       " 'other_payment_plans',\n",
       " 'housing',\n",
       " 'job',\n",
       " 'own_telephone',\n",
       " 'foreign_worker']"
      ]
     },
     "execution_count": 21,
     "metadata": {},
     "output_type": "execute_result"
    }
   ],
   "source": [
    "# Create a list for categorical features\n",
    "categorical = [\n",
    "    'checking_status',\n",
    "    'credit_history',\n",
    "    'purpose',                \n",
    "    'savings_status',          \n",
    "    'employment',              \n",
    "    'personal_status',         \n",
    "    'other_parties',           \n",
    "    'property_magnitude',      \n",
    "    'other_payment_plans',     \n",
    "    'housing',                 \n",
    "    'job',                     \n",
    "    'own_telephone',           \n",
    "    'foreign_worker'        \n",
    "]\n",
    "categorical"
   ]
  },
  {
   "cell_type": "code",
   "execution_count": 22,
   "id": "6f750f26",
   "metadata": {},
   "outputs": [
    {
     "data": {
      "text/html": [
       "<div>\n",
       "<style scoped>\n",
       "    .dataframe tbody tr th:only-of-type {\n",
       "        vertical-align: middle;\n",
       "    }\n",
       "\n",
       "    .dataframe tbody tr th {\n",
       "        vertical-align: top;\n",
       "    }\n",
       "\n",
       "    .dataframe thead th {\n",
       "        text-align: right;\n",
       "    }\n",
       "</style>\n",
       "<table border=\"1\" class=\"dataframe\">\n",
       "  <thead>\n",
       "    <tr style=\"text-align: right;\">\n",
       "      <th></th>\n",
       "      <th>checking_status</th>\n",
       "      <th>credit_history</th>\n",
       "      <th>purpose</th>\n",
       "      <th>savings_status</th>\n",
       "      <th>employment</th>\n",
       "      <th>personal_status</th>\n",
       "      <th>other_parties</th>\n",
       "      <th>property_magnitude</th>\n",
       "      <th>other_payment_plans</th>\n",
       "      <th>housing</th>\n",
       "      <th>job</th>\n",
       "      <th>own_telephone</th>\n",
       "      <th>foreign_worker</th>\n",
       "    </tr>\n",
       "  </thead>\n",
       "  <tbody>\n",
       "    <tr>\n",
       "      <th>0</th>\n",
       "      <td>no checking</td>\n",
       "      <td>existing paid</td>\n",
       "      <td>new car</td>\n",
       "      <td>no known savings</td>\n",
       "      <td>4&lt;=X&lt;7</td>\n",
       "      <td>female div/dep/mar</td>\n",
       "      <td>none</td>\n",
       "      <td>life insurance</td>\n",
       "      <td>none</td>\n",
       "      <td>rent</td>\n",
       "      <td>skilled</td>\n",
       "      <td>none</td>\n",
       "      <td>yes</td>\n",
       "    </tr>\n",
       "    <tr>\n",
       "      <th>1</th>\n",
       "      <td>no checking</td>\n",
       "      <td>existing paid</td>\n",
       "      <td>new car</td>\n",
       "      <td>no known savings</td>\n",
       "      <td>&gt;=7</td>\n",
       "      <td>male single</td>\n",
       "      <td>none</td>\n",
       "      <td>car</td>\n",
       "      <td>none</td>\n",
       "      <td>own</td>\n",
       "      <td>skilled</td>\n",
       "      <td>yes</td>\n",
       "      <td>yes</td>\n",
       "    </tr>\n",
       "    <tr>\n",
       "      <th>2</th>\n",
       "      <td>&gt;=200</td>\n",
       "      <td>existing paid</td>\n",
       "      <td>new car</td>\n",
       "      <td>100&lt;=X&lt;500</td>\n",
       "      <td>1&lt;=X&lt;4</td>\n",
       "      <td>female div/dep/mar</td>\n",
       "      <td>none</td>\n",
       "      <td>car</td>\n",
       "      <td>bank</td>\n",
       "      <td>own</td>\n",
       "      <td>high qualif/self emp/mgmt</td>\n",
       "      <td>yes</td>\n",
       "      <td>yes</td>\n",
       "    </tr>\n",
       "  </tbody>\n",
       "</table>\n",
       "</div>"
      ],
      "text/plain": [
       "  checking_status credit_history  purpose    savings_status employment  \\\n",
       "0     no checking  existing paid  new car  no known savings     4<=X<7   \n",
       "1     no checking  existing paid  new car  no known savings        >=7   \n",
       "2           >=200  existing paid  new car        100<=X<500     1<=X<4   \n",
       "\n",
       "      personal_status other_parties property_magnitude other_payment_plans  \\\n",
       "0  female div/dep/mar          none     life insurance                none   \n",
       "1         male single          none                car                none   \n",
       "2  female div/dep/mar          none                car                bank   \n",
       "\n",
       "  housing                        job own_telephone foreign_worker  \n",
       "0    rent                    skilled          none            yes  \n",
       "1     own                    skilled           yes            yes  \n",
       "2     own  high qualif/self emp/mgmt           yes            yes  "
      ]
     },
     "execution_count": 22,
     "metadata": {},
     "output_type": "execute_result"
    }
   ],
   "source": [
    "df_full_train[categorical].head(3)"
   ]
  },
  {
   "cell_type": "code",
   "execution_count": 23,
   "id": "48c4b174",
   "metadata": {},
   "outputs": [
    {
     "data": {
      "text/html": [
       "<div>\n",
       "<style scoped>\n",
       "    .dataframe tbody tr th:only-of-type {\n",
       "        vertical-align: middle;\n",
       "    }\n",
       "\n",
       "    .dataframe tbody tr th {\n",
       "        vertical-align: top;\n",
       "    }\n",
       "\n",
       "    .dataframe thead th {\n",
       "        text-align: right;\n",
       "    }\n",
       "</style>\n",
       "<table border=\"1\" class=\"dataframe\">\n",
       "  <thead>\n",
       "    <tr style=\"text-align: right;\">\n",
       "      <th></th>\n",
       "      <th>duration</th>\n",
       "      <th>credit_amount</th>\n",
       "      <th>installment_commitment</th>\n",
       "      <th>residence_since</th>\n",
       "      <th>age</th>\n",
       "      <th>existing_credits</th>\n",
       "      <th>num_dependents</th>\n",
       "      <th>class</th>\n",
       "    </tr>\n",
       "  </thead>\n",
       "  <tbody>\n",
       "    <tr>\n",
       "      <th>0</th>\n",
       "      <td>22.0</td>\n",
       "      <td>1283.0</td>\n",
       "      <td>4.0</td>\n",
       "      <td>4.0</td>\n",
       "      <td>25.0</td>\n",
       "      <td>1.0</td>\n",
       "      <td>1.0</td>\n",
       "      <td>0</td>\n",
       "    </tr>\n",
       "    <tr>\n",
       "      <th>1</th>\n",
       "      <td>12.0</td>\n",
       "      <td>2390.0</td>\n",
       "      <td>4.0</td>\n",
       "      <td>3.0</td>\n",
       "      <td>50.0</td>\n",
       "      <td>1.0</td>\n",
       "      <td>1.0</td>\n",
       "      <td>0</td>\n",
       "    </tr>\n",
       "    <tr>\n",
       "      <th>2</th>\n",
       "      <td>21.0</td>\n",
       "      <td>2923.0</td>\n",
       "      <td>1.0</td>\n",
       "      <td>1.0</td>\n",
       "      <td>28.0</td>\n",
       "      <td>1.0</td>\n",
       "      <td>1.0</td>\n",
       "      <td>0</td>\n",
       "    </tr>\n",
       "  </tbody>\n",
       "</table>\n",
       "</div>"
      ],
      "text/plain": [
       "   duration  credit_amount  installment_commitment  residence_since   age  \\\n",
       "0      22.0         1283.0                     4.0              4.0  25.0   \n",
       "1      12.0         2390.0                     4.0              3.0  50.0   \n",
       "2      21.0         2923.0                     1.0              1.0  28.0   \n",
       "\n",
       "   existing_credits  num_dependents  class  \n",
       "0               1.0             1.0      0  \n",
       "1               1.0             1.0      0  \n",
       "2               1.0             1.0      0  "
      ]
     },
     "execution_count": 23,
     "metadata": {},
     "output_type": "execute_result"
    }
   ],
   "source": [
    "df_full_train.select_dtypes(include=np.number).head(3)"
   ]
  },
  {
   "cell_type": "code",
   "execution_count": 24,
   "id": "58250f41",
   "metadata": {},
   "outputs": [],
   "source": [
    "# Create a list for numerical features\n",
    "numerical =[\n",
    "    'duration',\n",
    "    'credit_amount',\n",
    "    'installment_commitment',\n",
    "    'residence_since',\n",
    "    'age',\n",
    "    'existing_credits', \n",
    "    'num_dependents'\n",
    "]"
   ]
  },
  {
   "cell_type": "code",
   "execution_count": 25,
   "id": "ea2cfa04",
   "metadata": {},
   "outputs": [
    {
     "data": {
      "text/html": [
       "<div>\n",
       "<style scoped>\n",
       "    .dataframe tbody tr th:only-of-type {\n",
       "        vertical-align: middle;\n",
       "    }\n",
       "\n",
       "    .dataframe tbody tr th {\n",
       "        vertical-align: top;\n",
       "    }\n",
       "\n",
       "    .dataframe thead th {\n",
       "        text-align: right;\n",
       "    }\n",
       "</style>\n",
       "<table border=\"1\" class=\"dataframe\">\n",
       "  <thead>\n",
       "    <tr style=\"text-align: right;\">\n",
       "      <th></th>\n",
       "      <th>duration</th>\n",
       "      <th>credit_amount</th>\n",
       "      <th>installment_commitment</th>\n",
       "      <th>residence_since</th>\n",
       "      <th>age</th>\n",
       "      <th>existing_credits</th>\n",
       "      <th>num_dependents</th>\n",
       "    </tr>\n",
       "  </thead>\n",
       "  <tbody>\n",
       "    <tr>\n",
       "      <th>0</th>\n",
       "      <td>22.0</td>\n",
       "      <td>1283.0</td>\n",
       "      <td>4.0</td>\n",
       "      <td>4.0</td>\n",
       "      <td>25.0</td>\n",
       "      <td>1.0</td>\n",
       "      <td>1.0</td>\n",
       "    </tr>\n",
       "    <tr>\n",
       "      <th>1</th>\n",
       "      <td>12.0</td>\n",
       "      <td>2390.0</td>\n",
       "      <td>4.0</td>\n",
       "      <td>3.0</td>\n",
       "      <td>50.0</td>\n",
       "      <td>1.0</td>\n",
       "      <td>1.0</td>\n",
       "    </tr>\n",
       "    <tr>\n",
       "      <th>2</th>\n",
       "      <td>21.0</td>\n",
       "      <td>2923.0</td>\n",
       "      <td>1.0</td>\n",
       "      <td>1.0</td>\n",
       "      <td>28.0</td>\n",
       "      <td>1.0</td>\n",
       "      <td>1.0</td>\n",
       "    </tr>\n",
       "  </tbody>\n",
       "</table>\n",
       "</div>"
      ],
      "text/plain": [
       "   duration  credit_amount  installment_commitment  residence_since   age  \\\n",
       "0      22.0         1283.0                     4.0              4.0  25.0   \n",
       "1      12.0         2390.0                     4.0              3.0  50.0   \n",
       "2      21.0         2923.0                     1.0              1.0  28.0   \n",
       "\n",
       "   existing_credits  num_dependents  \n",
       "0               1.0             1.0  \n",
       "1               1.0             1.0  \n",
       "2               1.0             1.0  "
      ]
     },
     "execution_count": 25,
     "metadata": {},
     "output_type": "execute_result"
    }
   ],
   "source": [
    "df_full_train[numerical].head(3)"
   ]
  },
  {
   "cell_type": "markdown",
   "id": "b7c9585c",
   "metadata": {},
   "source": [
    "## FEATURE IMPORTANCE: MUTUAL INFORMATION\n",
    "\n",
    "Categorical"
   ]
  },
  {
   "cell_type": "code",
   "execution_count": 26,
   "id": "6cb5c765",
   "metadata": {},
   "outputs": [
    {
     "data": {
      "text/plain": [
       "checking_status        0.064979\n",
       "credit_history         0.038718\n",
       "purpose                0.021878\n",
       "savings_status         0.020723\n",
       "property_magnitude     0.008991\n",
       "employment             0.008707\n",
       "housing                0.008128\n",
       "other_payment_plans    0.005233\n",
       "other_parties          0.004718\n",
       "personal_status        0.003593\n",
       "foreign_worker         0.003021\n",
       "own_telephone          0.001127\n",
       "job                    0.001107\n",
       "dtype: float64"
      ]
     },
     "execution_count": 26,
     "metadata": {},
     "output_type": "execute_result"
    }
   ],
   "source": [
    "from sklearn.metrics import mutual_info_score\n",
    "\n",
    "def mutual_info_class_score(series):\n",
    "    return mutual_info_score(series, df_full_train['class'])\n",
    "\n",
    "mutual_info = df_full_train[categorical].apply(mutual_info_class_score)\n",
    "mutual_info.sort_values(ascending=False)"
   ]
  },
  {
   "cell_type": "markdown",
   "id": "8690003d",
   "metadata": {},
   "source": [
    "## FEATURE IMPORTANCE: Correlation\n",
    "\n",
    "Numerical"
   ]
  },
  {
   "cell_type": "code",
   "execution_count": 27,
   "id": "af6cd6f3",
   "metadata": {},
   "outputs": [
    {
     "data": {
      "text/html": [
       "<div>\n",
       "<style scoped>\n",
       "    .dataframe tbody tr th:only-of-type {\n",
       "        vertical-align: middle;\n",
       "    }\n",
       "\n",
       "    .dataframe tbody tr th {\n",
       "        vertical-align: top;\n",
       "    }\n",
       "\n",
       "    .dataframe thead th {\n",
       "        text-align: right;\n",
       "    }\n",
       "</style>\n",
       "<table border=\"1\" class=\"dataframe\">\n",
       "  <thead>\n",
       "    <tr style=\"text-align: right;\">\n",
       "      <th></th>\n",
       "      <th>duration</th>\n",
       "      <th>credit_amount</th>\n",
       "      <th>installment_commitment</th>\n",
       "      <th>residence_since</th>\n",
       "      <th>age</th>\n",
       "      <th>existing_credits</th>\n",
       "      <th>num_dependents</th>\n",
       "    </tr>\n",
       "  </thead>\n",
       "  <tbody>\n",
       "    <tr>\n",
       "      <th>duration</th>\n",
       "      <td>1.000000</td>\n",
       "      <td>0.627604</td>\n",
       "      <td>0.081277</td>\n",
       "      <td>0.033178</td>\n",
       "      <td>-0.006347</td>\n",
       "      <td>-0.041805</td>\n",
       "      <td>-0.012973</td>\n",
       "    </tr>\n",
       "    <tr>\n",
       "      <th>credit_amount</th>\n",
       "      <td>0.627604</td>\n",
       "      <td>1.000000</td>\n",
       "      <td>-0.266372</td>\n",
       "      <td>0.043087</td>\n",
       "      <td>0.047857</td>\n",
       "      <td>0.005021</td>\n",
       "      <td>0.018462</td>\n",
       "    </tr>\n",
       "    <tr>\n",
       "      <th>installment_commitment</th>\n",
       "      <td>0.081277</td>\n",
       "      <td>-0.266372</td>\n",
       "      <td>1.000000</td>\n",
       "      <td>0.043050</td>\n",
       "      <td>0.080310</td>\n",
       "      <td>0.041857</td>\n",
       "      <td>-0.048140</td>\n",
       "    </tr>\n",
       "    <tr>\n",
       "      <th>residence_since</th>\n",
       "      <td>0.033178</td>\n",
       "      <td>0.043087</td>\n",
       "      <td>0.043050</td>\n",
       "      <td>1.000000</td>\n",
       "      <td>0.277631</td>\n",
       "      <td>0.087879</td>\n",
       "      <td>0.049210</td>\n",
       "    </tr>\n",
       "    <tr>\n",
       "      <th>age</th>\n",
       "      <td>-0.006347</td>\n",
       "      <td>0.047857</td>\n",
       "      <td>0.080310</td>\n",
       "      <td>0.277631</td>\n",
       "      <td>1.000000</td>\n",
       "      <td>0.169249</td>\n",
       "      <td>0.101522</td>\n",
       "    </tr>\n",
       "    <tr>\n",
       "      <th>existing_credits</th>\n",
       "      <td>-0.041805</td>\n",
       "      <td>0.005021</td>\n",
       "      <td>0.041857</td>\n",
       "      <td>0.087879</td>\n",
       "      <td>0.169249</td>\n",
       "      <td>1.000000</td>\n",
       "      <td>0.123067</td>\n",
       "    </tr>\n",
       "    <tr>\n",
       "      <th>num_dependents</th>\n",
       "      <td>-0.012973</td>\n",
       "      <td>0.018462</td>\n",
       "      <td>-0.048140</td>\n",
       "      <td>0.049210</td>\n",
       "      <td>0.101522</td>\n",
       "      <td>0.123067</td>\n",
       "      <td>1.000000</td>\n",
       "    </tr>\n",
       "  </tbody>\n",
       "</table>\n",
       "</div>"
      ],
      "text/plain": [
       "                        duration  credit_amount  installment_commitment  \\\n",
       "duration                1.000000       0.627604                0.081277   \n",
       "credit_amount           0.627604       1.000000               -0.266372   \n",
       "installment_commitment  0.081277      -0.266372                1.000000   \n",
       "residence_since         0.033178       0.043087                0.043050   \n",
       "age                    -0.006347       0.047857                0.080310   \n",
       "existing_credits       -0.041805       0.005021                0.041857   \n",
       "num_dependents         -0.012973       0.018462               -0.048140   \n",
       "\n",
       "                        residence_since       age  existing_credits  \\\n",
       "duration                       0.033178 -0.006347         -0.041805   \n",
       "credit_amount                  0.043087  0.047857          0.005021   \n",
       "installment_commitment         0.043050  0.080310          0.041857   \n",
       "residence_since                1.000000  0.277631          0.087879   \n",
       "age                            0.277631  1.000000          0.169249   \n",
       "existing_credits               0.087879  0.169249          1.000000   \n",
       "num_dependents                 0.049210  0.101522          0.123067   \n",
       "\n",
       "                        num_dependents  \n",
       "duration                     -0.012973  \n",
       "credit_amount                 0.018462  \n",
       "installment_commitment       -0.048140  \n",
       "residence_since               0.049210  \n",
       "age                           0.101522  \n",
       "existing_credits              0.123067  \n",
       "num_dependents                1.000000  "
      ]
     },
     "execution_count": 27,
     "metadata": {},
     "output_type": "execute_result"
    }
   ],
   "source": [
    "corr_full_train = df_full_train[numerical].corr()\n",
    "corr_full_train"
   ]
  },
  {
   "cell_type": "code",
   "execution_count": 28,
   "id": "8c4f46e1",
   "metadata": {
    "scrolled": true
   },
   "outputs": [
    {
     "data": {
      "image/png": "[encoded data removed]",
      "text/plain": [
       "<Figure size 720x360 with 2 Axes>"
      ]
     },
     "metadata": {},
     "output_type": "display_data"
    }
   ],
   "source": [
    "# f, ax = plt.subplots(figsize=(25, 20))\n",
    "mask = np.triu(np.ones_like(corr_full_train, dtype=bool))\n",
    "cmap = \"YlGnBu\"\n",
    "sns.heatmap(corr_full_train, mask=mask, vmax=1,cmap=cmap, center=0, annot = True,\n",
    "            square=True, linewidths=.5)\n",
    "plt.show()"
   ]
  },
  {
   "cell_type": "code",
   "execution_count": 29,
   "id": "56f41efa",
   "metadata": {},
   "outputs": [
    {
     "data": {
      "text/plain": [
       "duration                  0.205320\n",
       "credit_amount             0.151003\n",
       "installment_commitment    0.103902\n",
       "residence_since           0.011366\n",
       "num_dependents            0.008163\n",
       "existing_credits         -0.061331\n",
       "age                      -0.086342\n",
       "dtype: float64"
      ]
     },
     "execution_count": 29,
     "metadata": {},
     "output_type": "execute_result"
    }
   ],
   "source": [
    "# Correlation with target\n",
    "corr_with_class = df_full_train[numerical].corrwith(df_full_train['class'])\n",
    "corr_with_class.sort_values(ascending=False)"
   ]
  },
  {
   "cell_type": "markdown",
   "id": "6c67c595",
   "metadata": {},
   "source": [
    "## ENCODING CATEGORICAL FEATURES, STANDARDIZING NUMERICAL FEATURES"
   ]
  },
  {
   "cell_type": "code",
   "execution_count": 30,
   "id": "82dcd05e",
   "metadata": {},
   "outputs": [],
   "source": [
    "from sklearn.preprocessing import StandardScaler\n",
    "from sklearn.preprocessing import OneHotEncoder\n",
    "from sklearn.linear_model import LogisticRegression\n",
    "from sklearn.pipeline import make_pipeline\n",
    "from sklearn.compose import ColumnTransformer\n",
    "from sklearn.compose import make_column_selector\n",
    "\n",
    "\n",
    "column_trans = ColumnTransformer(\n",
    "    [\n",
    "        ('scaler', StandardScaler(), make_column_selector(dtype_include=np.number)),\n",
    "        ('categories', OneHotEncoder(), make_column_selector(dtype_exclude=np.number)),  \n",
    "    ],\n",
    "    remainder='drop', verbose_feature_names_out=False)"
   ]
  },
  {
   "cell_type": "code",
   "execution_count": 31,
   "id": "beee6060",
   "metadata": {},
   "outputs": [],
   "source": [
    "X_train = column_trans.fit_transform(df_train)\n",
    "X_train[3]\n",
    "\n",
    "X_val = column_trans.fit_transform(df_val)"
   ]
  },
  {
   "cell_type": "code",
   "execution_count": 32,
   "id": "19f76747",
   "metadata": {},
   "outputs": [],
   "source": [
    "# column_trans.get_feature_names_out()"
   ]
  },
  {
   "cell_type": "code",
   "execution_count": 33,
   "id": "90504917",
   "metadata": {},
   "outputs": [
    {
     "data": {
      "text/html": [
       "<style>#sk-container-id-1 {color: black;background-color: white;}#sk-container-id-1 pre{padding: 0;}#sk-container-id-1 div.sk-toggleable {background-color: white;}#sk-container-id-1 label.sk-toggleable__label {cursor: pointer;display: block;width: 100%;margin-bottom: 0;padding: 0.3em;box-sizing: border-box;text-align: center;}#sk-container-id-1 label.sk-toggleable__label-arrow:before {content: \"▸\";float: left;margin-right: 0.25em;color: #696969;}#sk-container-id-1 label.sk-toggleable__label-arrow:hover:before {color: black;}#sk-container-id-1 div.sk-estimator:hover label.sk-toggleable__label-arrow:before {color: black;}#sk-container-id-1 div.sk-toggleable__content {max-height: 0;max-width: 0;overflow: hidden;text-align: left;background-color: #f0f8ff;}#sk-container-id-1 div.sk-toggleable__content pre {margin: 0.2em;color: black;border-radius: 0.25em;background-color: #f0f8ff;}#sk-container-id-1 input.sk-toggleable__control:checked~div.sk-toggleable__content {max-height: 200px;max-width: 100%;overflow: auto;}#sk-container-id-1 input.sk-toggleable__control:checked~label.sk-toggleable__label-arrow:before {content: \"▾\";}#sk-container-id-1 div.sk-estimator input.sk-toggleable__control:checked~label.sk-toggleable__label {background-color: #d4ebff;}#sk-container-id-1 div.sk-label input.sk-toggleable__control:checked~label.sk-toggleable__label {background-color: #d4ebff;}#sk-container-id-1 input.sk-hidden--visually {border: 0;clip: rect(1px 1px 1px 1px);clip: rect(1px, 1px, 1px, 1px);height: 1px;margin: -1px;overflow: hidden;padding: 0;position: absolute;width: 1px;}#sk-container-id-1 div.sk-estimator {font-family: monospace;background-color: #f0f8ff;border: 1px dotted black;border-radius: 0.25em;box-sizing: border-box;margin-bottom: 0.5em;}#sk-container-id-1 div.sk-estimator:hover {background-color: #d4ebff;}#sk-container-id-1 div.sk-parallel-item::after {content: \"\";width: 100%;border-bottom: 1px solid gray;flex-grow: 1;}#sk-container-id-1 div.sk-label:hover label.sk-toggleable__label {background-color: #d4ebff;}#sk-container-id-1 div.sk-serial::before {content: \"\";position: absolute;border-left: 1px solid gray;box-sizing: border-box;top: 0;bottom: 0;left: 50%;z-index: 0;}#sk-container-id-1 div.sk-serial {display: flex;flex-direction: column;align-items: center;background-color: white;padding-right: 0.2em;padding-left: 0.2em;position: relative;}#sk-container-id-1 div.sk-item {position: relative;z-index: 1;}#sk-container-id-1 div.sk-parallel {display: flex;align-items: stretch;justify-content: center;background-color: white;position: relative;}#sk-container-id-1 div.sk-item::before, #sk-container-id-1 div.sk-parallel-item::before {content: \"\";position: absolute;border-left: 1px solid gray;box-sizing: border-box;top: 0;bottom: 0;left: 50%;z-index: -1;}#sk-container-id-1 div.sk-parallel-item {display: flex;flex-direction: column;z-index: 1;position: relative;background-color: white;}#sk-container-id-1 div.sk-parallel-item:first-child::after {align-self: flex-end;width: 50%;}#sk-container-id-1 div.sk-parallel-item:last-child::after {align-self: flex-start;width: 50%;}#sk-container-id-1 div.sk-parallel-item:only-child::after {width: 0;}#sk-container-id-1 div.sk-dashed-wrapped {border: 1px dashed gray;margin: 0 0.4em 0.5em 0.4em;box-sizing: border-box;padding-bottom: 0.4em;background-color: white;}#sk-container-id-1 div.sk-label label {font-family: monospace;font-weight: bold;display: inline-block;line-height: 1.2em;}#sk-container-id-1 div.sk-label-container {text-align: center;}#sk-container-id-1 div.sk-container {/* jupyter's `normalize.less` sets `[hidden] { display: none; }` but bootstrap.min.css set `[hidden] { display: none !important; }` so we also need the `!important` here to be able to override the default hidden behavior on the sphinx rendered scikit-learn.org. See: https://github.com/scikit-learn/scikit-learn/issues/21755 */display: inline-block !important;position: relative;}#sk-container-id-1 div.sk-text-repr-fallback {display: none;}</style><div id=\"sk-container-id-1\" class=\"sk-top-container\"><div class=\"sk-text-repr-fallback\"><pre>LogisticRegression(random_state=0)</pre><b>In a Jupyter environment, please rerun this cell to show the HTML representation or trust the notebook. <br />On GitHub, the HTML representation is unable to render, please try loading this page with nbviewer.org.</b></div><div class=\"sk-container\" hidden><div class=\"sk-item\"><div class=\"sk-estimator sk-toggleable\"><input class=\"sk-toggleable__control sk-hidden--visually\" id=\"sk-estimator-id-1\" type=\"checkbox\" checked><label for=\"sk-estimator-id-1\" class=\"sk-toggleable__label sk-toggleable__label-arrow\">LogisticRegression</label><div class=\"sk-toggleable__content\"><pre>LogisticRegression(random_state=0)</pre></div></div></div></div></div>"
      ],
      "text/plain": [
       "LogisticRegression(random_state=0)"
      ]
     },
     "execution_count": 33,
     "metadata": {},
     "output_type": "execute_result"
    }
   ],
   "source": [
    "# Define model\n",
    "model = LogisticRegression(random_state=0)\n",
    "model.fit(X_train, y_train)"
   ]
  },
  {
   "cell_type": "code",
   "execution_count": 34,
   "id": "b170c936",
   "metadata": {},
   "outputs": [
    {
     "data": {
      "text/plain": [
       "array([0, 0, 0, 0, 0, 1, 0, 0, 0, 1, 0, 0, 0, 0, 0, 0, 0, 0, 0, 0, 0, 0,\n",
       "       0, 1, 1, 0, 0, 0, 1, 0, 0, 0, 0, 0, 1, 0, 0, 0, 0, 0, 0, 0, 0, 0,\n",
       "       0, 0, 0, 0, 0, 0, 1, 1, 0, 0, 0, 0, 0, 1, 0, 0, 0, 0, 0, 0, 0, 0,\n",
       "       1, 0, 1, 0, 0, 0, 0, 0, 0, 0, 0, 0, 0, 0, 0, 0, 0, 0, 0, 0, 0, 0,\n",
       "       0, 0, 1, 1, 1, 0, 0, 0, 0, 0, 0, 0, 0, 0, 0, 0, 0, 0, 0, 0, 0, 0,\n",
       "       0, 0, 0, 0, 1, 0, 1, 0, 0, 0, 0, 0, 1, 0, 0, 0, 0, 0, 0, 0, 0, 0,\n",
       "       0, 0, 0, 0, 0, 0, 0, 0, 1, 0, 0, 0, 1, 0, 0, 1, 0, 0, 0, 0, 1, 0,\n",
       "       0, 1, 1, 1, 0, 0, 1, 0, 0, 0, 1, 0, 1, 0, 0, 0, 0, 1, 0, 0, 1, 0,\n",
       "       0, 1, 0, 0, 1, 0, 1, 0, 0, 1, 1, 1, 0, 0, 0, 0, 0, 0, 0, 0, 0, 0,\n",
       "       1, 1, 1, 0, 0, 0, 1, 0, 0, 0, 1, 1, 0, 0, 0, 0, 0, 0, 0, 0, 0, 0,\n",
       "       0, 0, 0, 1, 1, 0, 0, 0, 0, 1, 0, 0, 0, 0, 0, 0, 0, 0, 0, 0, 0, 0,\n",
       "       0, 0, 0, 0, 1, 0, 0, 0, 0, 1, 0, 1, 0, 0, 0, 0, 1, 0, 0, 0, 0, 0,\n",
       "       0, 0, 1, 1, 0, 1, 1, 0, 0, 0, 0, 0, 0, 1, 0, 1, 1, 0, 0, 0, 0, 0,\n",
       "       1, 0, 0, 0, 1, 0, 0, 0, 0, 1, 1, 0, 0, 1, 0, 0, 1, 1, 1, 1, 0, 0,\n",
       "       0, 0, 0, 0, 0, 1, 0, 0, 1, 0, 1, 0, 0, 0, 1, 0, 0, 0, 0, 1, 0, 0,\n",
       "       0, 0, 0, 0, 0, 0, 0, 0, 0, 0, 0, 0, 0, 0, 1, 0, 0, 0, 0, 0, 0, 0,\n",
       "       0, 0, 1, 0, 0, 1, 0, 1, 1, 1, 1, 0, 0, 1, 0, 0, 0, 1, 0, 0, 0, 1,\n",
       "       0, 0, 0, 0, 1, 0, 0, 1, 1, 1, 1, 1, 0, 1, 1, 1, 0, 0, 0, 0, 1, 0,\n",
       "       1, 0, 0, 0, 0, 0, 0, 0, 1, 0, 0, 0, 0, 0, 0, 0, 0, 1, 0, 0, 0, 0,\n",
       "       0, 0, 1, 0, 0, 0, 0, 0, 0, 0, 1, 1, 0, 1, 0, 1, 0, 0, 1, 1, 0, 0,\n",
       "       0, 0, 0, 0, 0, 0, 1, 0, 0, 0, 0, 0, 0, 0, 1, 0, 0, 1, 1, 1, 0, 1,\n",
       "       0, 0, 0, 0, 0, 0, 1, 0, 1, 1, 0, 1, 0, 1, 0, 0, 1, 0, 1, 0, 0, 0,\n",
       "       0, 0, 0, 0, 0, 1, 1, 1, 0, 1, 0, 0, 0, 1, 0, 0, 1, 0, 0, 0, 0, 0,\n",
       "       0, 0, 1, 0, 0, 0, 0, 1, 0, 0, 0, 0, 0, 0, 0, 0, 0, 0, 1, 0, 1, 0,\n",
       "       0, 0, 1, 0, 0, 0, 0, 1, 1, 0, 0, 0, 1, 0, 0, 0, 0, 0, 1, 1, 0, 0,\n",
       "       0, 0, 0, 0, 1, 0, 0, 0, 0, 0, 0, 1, 0, 0, 0, 0, 0, 1, 0, 1, 1, 0,\n",
       "       0, 0, 1, 0, 1, 0, 1, 0, 0, 1, 0, 0, 0, 0, 0, 1, 0, 1, 1, 0, 1, 0,\n",
       "       0, 0, 0, 1, 0, 0])"
      ]
     },
     "execution_count": 34,
     "metadata": {},
     "output_type": "execute_result"
    }
   ],
   "source": [
    "model.predict(X_train)"
   ]
  },
  {
   "cell_type": "code",
   "execution_count": 35,
   "id": "dac54ada",
   "metadata": {},
   "outputs": [],
   "source": [
    "y_pred = model.predict_proba(X_val)[:, 1]"
   ]
  },
  {
   "cell_type": "code",
   "execution_count": 36,
   "id": "122f1256",
   "metadata": {},
   "outputs": [],
   "source": [
    "scoring_decision = (y_pred >= 0.5)"
   ]
  },
  {
   "cell_type": "code",
   "execution_count": 37,
   "id": "1efae8d6",
   "metadata": {},
   "outputs": [
    {
     "data": {
      "text/plain": [
       "0.775"
      ]
     },
     "execution_count": 37,
     "metadata": {},
     "output_type": "execute_result"
    }
   ],
   "source": [
    "(y_val == scoring_decision).mean()"
   ]
  },
  {
   "cell_type": "markdown",
   "id": "d45f0779",
   "metadata": {},
   "source": [
    "## Model interpretation\n",
    "\n",
    "* Look at the coefficients"
   ]
  },
  {
   "cell_type": "code",
   "execution_count": 38,
   "id": "35cc53bf",
   "metadata": {},
   "outputs": [
    {
     "data": {
      "text/plain": [
       "-1.3394845070671235"
      ]
     },
     "execution_count": 38,
     "metadata": {},
     "output_type": "execute_result"
    }
   ],
   "source": [
    "# Bias\n",
    "model.intercept_[0]"
   ]
  },
  {
   "cell_type": "code",
   "execution_count": 39,
   "id": "7b06c331",
   "metadata": {},
   "outputs": [
    {
     "data": {
      "text/plain": [
       "array([ 0.121,  0.638,  0.527,  0.117, -0.184, -0.013,  0.112,  0.256,\n",
       "        0.702, -0.2  , -0.759,  0.585, -0.789, -0.284,  0.092,  0.395,\n",
       "        0.274, -0.13 ,  0.755, -0.033,  0.713, -0.097, -0.327,  0.309,\n",
       "       -0.313, -1.151,  0.185,  0.07 ,  0.483, -0.576, -0.163,  0.097,\n",
       "       -0.532,  0.035, -0.086,  0.485,  0.081,  0.315, -0.01 , -0.387,\n",
       "        0.456, -0.367, -0.089, -0.01 ,  0.167,  0.138, -0.296,  0.046,\n",
       "       -0.253,  0.207, -0.113, -0.196,  0.308,  0.111,  0.257, -0.806,\n",
       "        0.437,  0.211, -0.212, -0.504,  0.503])"
      ]
     },
     "execution_count": 39,
     "metadata": {},
     "output_type": "execute_result"
    }
   ],
   "source": [
    "# Variance\n",
    "model.coef_[0].round(3)"
   ]
  },
  {
   "cell_type": "code",
   "execution_count": 40,
   "id": "f3bdd892",
   "metadata": {},
   "outputs": [
    {
     "data": {
      "text/plain": [
       "{'duration': 0.121,\n",
       " 'credit_amount': 0.638,\n",
       " 'installment_commitment': 0.527,\n",
       " 'residence_since': 0.117,\n",
       " 'age': -0.184,\n",
       " 'existing_credits': -0.013,\n",
       " 'num_dependents': 0.112,\n",
       " 'checking_status_0<=X<200': 0.256,\n",
       " 'checking_status_<0': 0.702,\n",
       " 'checking_status_>=200': -0.2,\n",
       " 'checking_status_no checking': -0.759,\n",
       " 'credit_history_all paid': 0.585,\n",
       " 'credit_history_critical/other existing credit': -0.789,\n",
       " 'credit_history_delayed previously': -0.284,\n",
       " 'credit_history_existing paid': 0.092,\n",
       " 'credit_history_no credits/all paid': 0.395,\n",
       " 'purpose_business': 0.274,\n",
       " 'purpose_domestic appliance': -0.13,\n",
       " 'purpose_education': 0.755,\n",
       " 'purpose_furniture/equipment': -0.033,\n",
       " 'purpose_new car': 0.713,\n",
       " 'purpose_other': -0.097,\n",
       " 'purpose_radio/tv': -0.327,\n",
       " 'purpose_repairs': 0.309,\n",
       " 'purpose_retraining': -0.313,\n",
       " 'purpose_used car': -1.151,\n",
       " 'savings_status_100<=X<500': 0.185,\n",
       " 'savings_status_500<=X<1000': 0.07,\n",
       " 'savings_status_<100': 0.483,\n",
       " 'savings_status_>=1000': -0.576,\n",
       " 'savings_status_no known savings': -0.163,\n",
       " 'employment_1<=X<4': 0.097,\n",
       " 'employment_4<=X<7': -0.532,\n",
       " 'employment_<1': 0.035,\n",
       " 'employment_>=7': -0.086,\n",
       " 'employment_unemployed': 0.485,\n",
       " 'personal_status_female div/dep/mar': 0.081,\n",
       " 'personal_status_male div/sep': 0.315,\n",
       " 'personal_status_male mar/wid': -0.01,\n",
       " 'personal_status_male single': -0.387,\n",
       " 'other_parties_co applicant': 0.456,\n",
       " 'other_parties_guarantor': -0.367,\n",
       " 'other_parties_none': -0.089,\n",
       " 'property_magnitude_car': -0.01,\n",
       " 'property_magnitude_life insurance': 0.167,\n",
       " 'property_magnitude_no known property': 0.138,\n",
       " 'property_magnitude_real estate': -0.296,\n",
       " 'other_payment_plans_bank': 0.046,\n",
       " 'other_payment_plans_none': -0.253,\n",
       " 'other_payment_plans_stores': 0.207,\n",
       " 'housing_for free': -0.113,\n",
       " 'housing_own': -0.196,\n",
       " 'housing_rent': 0.308,\n",
       " 'job_high qualif/self emp/mgmt': 0.111,\n",
       " 'job_skilled': 0.257,\n",
       " 'job_unemp/unskilled non res': -0.806,\n",
       " 'job_unskilled resident': 0.437,\n",
       " 'own_telephone_none': 0.211,\n",
       " 'own_telephone_yes': -0.212,\n",
       " 'foreign_worker_no': -0.504,\n",
       " 'foreign_worker_yes': 0.503}"
      ]
     },
     "execution_count": 40,
     "metadata": {},
     "output_type": "execute_result"
    }
   ],
   "source": [
    "dict(zip(column_trans.get_feature_names_out(), model.coef_[0].round(3)))"
   ]
  },
  {
   "cell_type": "markdown",
   "id": "8c02b04b",
   "metadata": {},
   "source": [
    "## Accuracy\n",
    "\n",
    "* Check the accuracy\n",
    "* Evaluate the model on different thresholds"
   ]
  },
  {
   "cell_type": "code",
   "execution_count": 41,
   "id": "f520c6a9",
   "metadata": {},
   "outputs": [
    {
     "data": {
      "text/plain": [
       "0.775"
      ]
     },
     "execution_count": 41,
     "metadata": {},
     "output_type": "execute_result"
    }
   ],
   "source": [
    "from sklearn.metrics import accuracy_score\n",
    "\n",
    "accuracy_score(y_val, y_pred >= 0.5)"
   ]
  },
  {
   "cell_type": "code",
   "execution_count": 42,
   "id": "bb015985",
   "metadata": {},
   "outputs": [
    {
     "name": "stdout",
     "output_type": "stream",
     "text": [
      "0.00 0.270\n",
      "0.05 0.400\n",
      "0.10 0.495\n",
      "0.15 0.590\n",
      "0.20 0.645\n",
      "0.25 0.705\n",
      "0.30 0.730\n",
      "0.35 0.755\n",
      "0.40 0.770\n",
      "0.45 0.775\n",
      "0.50 0.775\n",
      "0.55 0.785\n",
      "0.60 0.765\n",
      "0.65 0.790\n",
      "0.70 0.770\n",
      "0.75 0.765\n",
      "0.80 0.765\n",
      "0.85 0.745\n",
      "0.90 0.740\n",
      "0.95 0.725\n",
      "1.00 0.730\n"
     ]
    }
   ],
   "source": [
    "thresholds = np.linspace(0, 1, 21)\n",
    "\n",
    "scores = []\n",
    "\n",
    "for t in thresholds:\n",
    "    score = accuracy_score(y_val, y_pred >= t)\n",
    "    print('%.2f %.3f' % (t, score))\n",
    "    scores.append(score)"
   ]
  },
  {
   "cell_type": "markdown",
   "id": "85d6f47a",
   "metadata": {},
   "source": [
    "The model had best accuracy score at 0.65 threshold"
   ]
  },
  {
   "cell_type": "code",
   "execution_count": 43,
   "id": "07c2d82a",
   "metadata": {},
   "outputs": [
    {
     "data": {
      "text/plain": [
       "[<matplotlib.lines.Line2D at 0x7f15952c2fa0>]"
      ]
     },
     "execution_count": 43,
     "metadata": {},
     "output_type": "execute_result"
    },
    {
     "data": {
      "image/png": "[encoded data removed]",
      "text/plain": [
       "<Figure size 720x360 with 1 Axes>"
      ]
     },
     "metadata": {},
     "output_type": "display_data"
    }
   ],
   "source": [
    "plt.plot(thresholds, scores)"
   ]
  },
  {
   "cell_type": "code",
   "execution_count": 44,
   "id": "8f9dffc9",
   "metadata": {},
   "outputs": [
    {
     "data": {
      "text/plain": [
       "Counter({False: 200})"
      ]
     },
     "execution_count": 44,
     "metadata": {},
     "output_type": "execute_result"
    }
   ],
   "source": [
    "from collections import Counter\n",
    "\n",
    "Counter(y_pred >= 1.0)"
   ]
  },
  {
   "cell_type": "code",
   "execution_count": 45,
   "id": "1da3213a",
   "metadata": {},
   "outputs": [
    {
     "data": {
      "text/plain": [
       "Counter({0: 146, 1: 54})"
      ]
     },
     "execution_count": 45,
     "metadata": {},
     "output_type": "execute_result"
    }
   ],
   "source": [
    "# Get number of good and bad credit score\n",
    "Counter(y_val)"
   ]
  },
  {
   "cell_type": "code",
   "execution_count": 46,
   "id": "b769d7c1",
   "metadata": {},
   "outputs": [
    {
     "data": {
      "text/plain": [
       "0.27"
      ]
     },
     "execution_count": 46,
     "metadata": {},
     "output_type": "execute_result"
    }
   ],
   "source": [
    "# bad credit score/percentage\n",
    "y_val.mean()"
   ]
  },
  {
   "cell_type": "code",
   "execution_count": 47,
   "id": "afeef674",
   "metadata": {},
   "outputs": [
    {
     "data": {
      "text/plain": [
       "0.73"
      ]
     },
     "execution_count": 47,
     "metadata": {},
     "output_type": "execute_result"
    }
   ],
   "source": [
    "# good credit score\n",
    "1 - y_val.mean()"
   ]
  },
  {
   "cell_type": "markdown",
   "id": "0665386f",
   "metadata": {},
   "source": [
    "## Confusion Matrix"
   ]
  },
  {
   "cell_type": "code",
   "execution_count": 48,
   "id": "316e0d8f",
   "metadata": {},
   "outputs": [
    {
     "data": {
      "text/plain": [
       "array([[135,  11],\n",
       "       [ 31,  23]])"
      ]
     },
     "execution_count": 48,
     "metadata": {},
     "output_type": "execute_result"
    }
   ],
   "source": [
    "from sklearn.metrics import confusion_matrix\n",
    "\n",
    "new_t = 0.65\n",
    "confusion_matrix(y_val, (y_pred >= new_t))"
   ]
  },
  {
   "cell_type": "markdown",
   "id": "16fbf4f4",
   "metadata": {},
   "source": [
    "Even though we had the highest accuracy at t = 0.65, the confusion matrix shows that that there are a lot of False Negatives(FN) at this threshold\n",
    "\n",
    "We want FN to be as small as possible.\n",
    "At t = 0.5, FN is less"
   ]
  },
  {
   "cell_type": "code",
   "execution_count": 49,
   "id": "affbe7e7",
   "metadata": {},
   "outputs": [
    {
     "data": {
      "text/plain": [
       "array([[123,  23],\n",
       "       [ 22,  32]])"
      ]
     },
     "execution_count": 49,
     "metadata": {},
     "output_type": "execute_result"
    }
   ],
   "source": [
    "confusion_matrix(y_val, (y_pred >= 0.5))"
   ]
  },
  {
   "cell_type": "code",
   "execution_count": 50,
   "id": "10820b06",
   "metadata": {},
   "outputs": [
    {
     "name": "stdout",
     "output_type": "stream",
     "text": [
      "cm_t: [[0.675 0.055]\n",
      " [0.155 0.115]]\n",
      "\n",
      "cm: [[0.615 0.115]\n",
      " [0.11  0.16 ]]\n"
     ]
    }
   ],
   "source": [
    "cm_t = confusion_matrix(y_val, y_pred >= new_t, normalize='all')\n",
    "print('cm_t:', cm_t)\n",
    "print()\n",
    "cm = confusion_matrix(y_val, y_pred >= 0.5, normalize='all')\n",
    "print('cm:', cm)"
   ]
  },
  {
   "cell_type": "code",
   "execution_count": 51,
   "id": "0a6c9b1d",
   "metadata": {},
   "outputs": [
    {
     "data": {
      "image/png": "[encoded data removed]",
      "text/plain": [
       "<Figure size 720x360 with 2 Axes>"
      ]
     },
     "metadata": {},
     "output_type": "display_data"
    }
   ],
   "source": [
    "from sklearn.metrics import ConfusionMatrixDisplay\n",
    "\n",
    "disp = ConfusionMatrixDisplay(cm)\n",
    "disp.plot()\n",
    "plt.show()"
   ]
  },
  {
   "cell_type": "markdown",
   "id": "3b033f98",
   "metadata": {},
   "source": [
    "## Precision and Recall\n",
    "A perfect precision or recall score is 1"
   ]
  },
  {
   "cell_type": "code",
   "execution_count": 52,
   "id": "1aa39986",
   "metadata": {},
   "outputs": [
    {
     "name": "stdout",
     "output_type": "stream",
     "text": [
      "precision_score: 0.5818181818181818\n",
      "\n",
      "recall_score: 0.5925925925925926\n",
      "\n",
      "(array([0.27      , 0.58181818, 1.        ]), array([1.        , 0.59259259, 0.        ]), array([False,  True]))\n",
      "\n"
     ]
    }
   ],
   "source": [
    "from sklearn.metrics import precision_score, recall_score, precision_recall_curve, PrecisionRecallDisplay\n",
    "\n",
    "t = 0.5\n",
    "print('precision_score:', precision_score(y_val, y_pred >= t))\n",
    "print()\n",
    "print('recall_score:', recall_score(y_val, y_pred >= t))\n",
    "print()\n",
    "print(precision_recall_curve(y_val, y_pred >= t))\n",
    "print()"
   ]
  },
  {
   "cell_type": "code",
   "execution_count": 53,
   "id": "0e85a3a4",
   "metadata": {},
   "outputs": [
    {
     "name": "stdout",
     "output_type": "stream",
     "text": [
      "                   pre       rec       spe        f1       geo       iba       sup\n",
      "\n",
      "          0       0.85      0.84      0.59      0.85      0.71      0.51       146\n",
      "          1       0.58      0.59      0.84      0.59      0.71      0.49        54\n",
      "\n",
      "avg / total       0.78      0.78      0.66      0.78      0.71      0.50       200\n",
      "\n"
     ]
    }
   ],
   "source": [
    "from imblearn.metrics import classification_report_imbalanced\n",
    "\n",
    "print(classification_report_imbalanced(y_val, y_pred>=.5))"
   ]
  },
  {
   "cell_type": "code",
   "execution_count": 54,
   "id": "8718805e",
   "metadata": {},
   "outputs": [
    {
     "data": {
      "image/png": "[encoded data removed]",
      "text/plain": [
       "<Figure size 720x360 with 1 Axes>"
      ]
     },
     "metadata": {},
     "output_type": "display_data"
    }
   ],
   "source": [
    "# We want a high Recall value -- ie: FN should be close to zero\n",
    "PrecisionRecallDisplay.from_estimator(model, X_val, y_val)\n",
    "plt.show()"
   ]
  },
  {
   "cell_type": "markdown",
   "id": "e1dd4a10",
   "metadata": {},
   "source": [
    "## F1 SCORE"
   ]
  },
  {
   "cell_type": "markdown",
   "id": "7c480dce",
   "metadata": {},
   "source": [
    "f1 score is the weighted harmonic mean between precision and recall with best value at 1 and worst at 0"
   ]
  },
  {
   "cell_type": "code",
   "execution_count": 55,
   "id": "162439e0",
   "metadata": {},
   "outputs": [
    {
     "data": {
      "text/plain": [
       "0.5871559633027522"
      ]
     },
     "execution_count": 55,
     "metadata": {},
     "output_type": "execute_result"
    }
   ],
   "source": [
    "from sklearn.metrics import f1_score\n",
    "\n",
    "f1_score(y_val, y_pred>=0.5)"
   ]
  },
  {
   "cell_type": "code",
   "execution_count": 56,
   "id": "c3696062",
   "metadata": {},
   "outputs": [
    {
     "data": {
      "text/plain": [
       "0.5892351274787535"
      ]
     },
     "execution_count": 56,
     "metadata": {},
     "output_type": "execute_result"
    }
   ],
   "source": [
    "from sklearn.metrics import fbeta_score\n",
    "\n",
    "fbeta_score(y_val, y_pred>=.5, beta=1.5)"
   ]
  },
  {
   "cell_type": "markdown",
   "id": "105ab6a1",
   "metadata": {},
   "source": [
    "## ROC Curve\n",
    "\n",
    "* A graphical plot that illustrates the performance of a binary classifier system as it threshold is varied\n",
    "* Created by plotting TPR over FPR"
   ]
  },
  {
   "cell_type": "code",
   "execution_count": 57,
   "id": "c5b864ea",
   "metadata": {},
   "outputs": [],
   "source": [
    "from sklearn.metrics import roc_curve\n",
    "\n",
    "fpr, tpr, thresholds = roc_curve(y_val, y_pred)"
   ]
  },
  {
   "cell_type": "code",
   "execution_count": 58,
   "id": "8eeb7002",
   "metadata": {},
   "outputs": [
    {
     "data": {
      "text/plain": [
       "<matplotlib.legend.Legend at 0x7f158ef30f10>"
      ]
     },
     "execution_count": 58,
     "metadata": {},
     "output_type": "execute_result"
    },
    {
     "data": {
      "image/png": "[encoded data removed]",
      "text/plain": [
       "<Figure size 720x360 with 1 Axes>"
      ]
     },
     "metadata": {},
     "output_type": "display_data"
    }
   ],
   "source": [
    "# plt.figure(figsize=(5, 5))\n",
    "\n",
    "plt.plot(fpr, tpr, label='Model')\n",
    "plt.plot([0, 1], [0, 1], label='Random', linestyle='--') #baseline\n",
    "\n",
    "plt.xlabel('FPR')\n",
    "plt.ylabel('TPR')\n",
    "\n",
    "plt.legend()"
   ]
  },
  {
   "cell_type": "markdown",
   "id": "f72e7ca4",
   "metadata": {},
   "source": [
    "The ideal spot is when TPR is 100% and FPR is 0. The curve should be far from the baseline"
   ]
  },
  {
   "cell_type": "markdown",
   "id": "0f0c2fd9",
   "metadata": {},
   "source": [
    "Plot directly from RocCurveDisplay"
   ]
  },
  {
   "cell_type": "code",
   "execution_count": 59,
   "id": "d2478086",
   "metadata": {},
   "outputs": [
    {
     "data": {
      "text/plain": [
       "<sklearn.metrics._plot.roc_curve.RocCurveDisplay at 0x7f159424fe80>"
      ]
     },
     "execution_count": 59,
     "metadata": {},
     "output_type": "execute_result"
    },
    {
     "data": {
      "image/png": "[encoded data removed]",
      "text/plain": [
       "<Figure size 720x360 with 1 Axes>"
      ]
     },
     "metadata": {},
     "output_type": "display_data"
    }
   ],
   "source": [
    "from sklearn.metrics import roc_auc_score\n",
    "from sklearn.metrics import RocCurveDisplay\n",
    "\n",
    "roc_auc_score(y_val, y_pred)\n",
    "RocCurveDisplay.from_estimator(model, X_val, y_val)"
   ]
  },
  {
   "cell_type": "markdown",
   "id": "3679a167",
   "metadata": {},
   "source": [
    "##  Cross-Validation\n",
    "\n",
    "* Evaluate model on different subsets of data\n",
    "* Get the average prediction"
   ]
  },
  {
   "cell_type": "code",
   "execution_count": 60,
   "id": "5b775b86",
   "metadata": {},
   "outputs": [],
   "source": [
    "# Define a Train function\n",
    "\n",
    "def train(df_train, y_train, C=1.0):\n",
    "    column_trans = ColumnTransformer(\n",
    "    [\n",
    "        ('scaler', StandardScaler(), make_column_selector(dtype_include=np.number)),\n",
    "        ('categories', OneHotEncoder(), make_column_selector(dtype_exclude=np.number)),  \n",
    "    ],\n",
    "    remainder='drop', verbose_feature_names_out=False)\n",
    "    \n",
    "    X_train = column_trans.fit_transform(df_train)\n",
    "\n",
    "    model = LogisticRegression(C=C, max_iter=1000)\n",
    "    model.fit(X_train, y_train)\n",
    "    \n",
    "    return column_trans, model"
   ]
  },
  {
   "cell_type": "code",
   "execution_count": 61,
   "id": "9754cbfb",
   "metadata": {},
   "outputs": [],
   "source": [
    "column_trans, model = train(df_train, y_train, C=0.001)"
   ]
  },
  {
   "cell_type": "code",
   "execution_count": 62,
   "id": "a00efb11",
   "metadata": {},
   "outputs": [
    {
     "data": {
      "text/plain": [
       "((600, 20), (600, 61), (600,))"
      ]
     },
     "execution_count": 62,
     "metadata": {},
     "output_type": "execute_result"
    }
   ],
   "source": [
    "df_train.shape, X_train.shape, y_train.shape"
   ]
  },
  {
   "cell_type": "code",
   "execution_count": 63,
   "id": "5ac7c897",
   "metadata": {},
   "outputs": [
    {
     "data": {
      "text/html": [
       "<style>#sk-container-id-2 {color: black;background-color: white;}#sk-container-id-2 pre{padding: 0;}#sk-container-id-2 div.sk-toggleable {background-color: white;}#sk-container-id-2 label.sk-toggleable__label {cursor: pointer;display: block;width: 100%;margin-bottom: 0;padding: 0.3em;box-sizing: border-box;text-align: center;}#sk-container-id-2 label.sk-toggleable__label-arrow:before {content: \"▸\";float: left;margin-right: 0.25em;color: #696969;}#sk-container-id-2 label.sk-toggleable__label-arrow:hover:before {color: black;}#sk-container-id-2 div.sk-estimator:hover label.sk-toggleable__label-arrow:before {color: black;}#sk-container-id-2 div.sk-toggleable__content {max-height: 0;max-width: 0;overflow: hidden;text-align: left;background-color: #f0f8ff;}#sk-container-id-2 div.sk-toggleable__content pre {margin: 0.2em;color: black;border-radius: 0.25em;background-color: #f0f8ff;}#sk-container-id-2 input.sk-toggleable__control:checked~div.sk-toggleable__content {max-height: 200px;max-width: 100%;overflow: auto;}#sk-container-id-2 input.sk-toggleable__control:checked~label.sk-toggleable__label-arrow:before {content: \"▾\";}#sk-container-id-2 div.sk-estimator input.sk-toggleable__control:checked~label.sk-toggleable__label {background-color: #d4ebff;}#sk-container-id-2 div.sk-label input.sk-toggleable__control:checked~label.sk-toggleable__label {background-color: #d4ebff;}#sk-container-id-2 input.sk-hidden--visually {border: 0;clip: rect(1px 1px 1px 1px);clip: rect(1px, 1px, 1px, 1px);height: 1px;margin: -1px;overflow: hidden;padding: 0;position: absolute;width: 1px;}#sk-container-id-2 div.sk-estimator {font-family: monospace;background-color: #f0f8ff;border: 1px dotted black;border-radius: 0.25em;box-sizing: border-box;margin-bottom: 0.5em;}#sk-container-id-2 div.sk-estimator:hover {background-color: #d4ebff;}#sk-container-id-2 div.sk-parallel-item::after {content: \"\";width: 100%;border-bottom: 1px solid gray;flex-grow: 1;}#sk-container-id-2 div.sk-label:hover label.sk-toggleable__label {background-color: #d4ebff;}#sk-container-id-2 div.sk-serial::before {content: \"\";position: absolute;border-left: 1px solid gray;box-sizing: border-box;top: 0;bottom: 0;left: 50%;z-index: 0;}#sk-container-id-2 div.sk-serial {display: flex;flex-direction: column;align-items: center;background-color: white;padding-right: 0.2em;padding-left: 0.2em;position: relative;}#sk-container-id-2 div.sk-item {position: relative;z-index: 1;}#sk-container-id-2 div.sk-parallel {display: flex;align-items: stretch;justify-content: center;background-color: white;position: relative;}#sk-container-id-2 div.sk-item::before, #sk-container-id-2 div.sk-parallel-item::before {content: \"\";position: absolute;border-left: 1px solid gray;box-sizing: border-box;top: 0;bottom: 0;left: 50%;z-index: -1;}#sk-container-id-2 div.sk-parallel-item {display: flex;flex-direction: column;z-index: 1;position: relative;background-color: white;}#sk-container-id-2 div.sk-parallel-item:first-child::after {align-self: flex-end;width: 50%;}#sk-container-id-2 div.sk-parallel-item:last-child::after {align-self: flex-start;width: 50%;}#sk-container-id-2 div.sk-parallel-item:only-child::after {width: 0;}#sk-container-id-2 div.sk-dashed-wrapped {border: 1px dashed gray;margin: 0 0.4em 0.5em 0.4em;box-sizing: border-box;padding-bottom: 0.4em;background-color: white;}#sk-container-id-2 div.sk-label label {font-family: monospace;font-weight: bold;display: inline-block;line-height: 1.2em;}#sk-container-id-2 div.sk-label-container {text-align: center;}#sk-container-id-2 div.sk-container {/* jupyter's `normalize.less` sets `[hidden] { display: none; }` but bootstrap.min.css set `[hidden] { display: none !important; }` so we also need the `!important` here to be able to override the default hidden behavior on the sphinx rendered scikit-learn.org. See: https://github.com/scikit-learn/scikit-learn/issues/21755 */display: inline-block !important;position: relative;}#sk-container-id-2 div.sk-text-repr-fallback {display: none;}</style><div id=\"sk-container-id-2\" class=\"sk-top-container\"><div class=\"sk-text-repr-fallback\"><pre>ColumnTransformer(transformers=[(&#x27;scaler&#x27;, StandardScaler(),\n",
       "                                 &lt;sklearn.compose._column_transformer.make_column_selector object at 0x7f15959100a0&gt;),\n",
       "                                (&#x27;categories&#x27;, OneHotEncoder(),\n",
       "                                 &lt;sklearn.compose._column_transformer.make_column_selector object at 0x7f1595910c70&gt;)],\n",
       "                  verbose_feature_names_out=False)</pre><b>In a Jupyter environment, please rerun this cell to show the HTML representation or trust the notebook. <br />On GitHub, the HTML representation is unable to render, please try loading this page with nbviewer.org.</b></div><div class=\"sk-container\" hidden><div class=\"sk-item sk-dashed-wrapped\"><div class=\"sk-label-container\"><div class=\"sk-label sk-toggleable\"><input class=\"sk-toggleable__control sk-hidden--visually\" id=\"sk-estimator-id-2\" type=\"checkbox\" ><label for=\"sk-estimator-id-2\" class=\"sk-toggleable__label sk-toggleable__label-arrow\">ColumnTransformer</label><div class=\"sk-toggleable__content\"><pre>ColumnTransformer(transformers=[(&#x27;scaler&#x27;, StandardScaler(),\n",
       "                                 &lt;sklearn.compose._column_transformer.make_column_selector object at 0x7f15959100a0&gt;),\n",
       "                                (&#x27;categories&#x27;, OneHotEncoder(),\n",
       "                                 &lt;sklearn.compose._column_transformer.make_column_selector object at 0x7f1595910c70&gt;)],\n",
       "                  verbose_feature_names_out=False)</pre></div></div></div><div class=\"sk-parallel\"><div class=\"sk-parallel-item\"><div class=\"sk-item\"><div class=\"sk-label-container\"><div class=\"sk-label sk-toggleable\"><input class=\"sk-toggleable__control sk-hidden--visually\" id=\"sk-estimator-id-3\" type=\"checkbox\" ><label for=\"sk-estimator-id-3\" class=\"sk-toggleable__label sk-toggleable__label-arrow\">scaler</label><div class=\"sk-toggleable__content\"><pre>&lt;sklearn.compose._column_transformer.make_column_selector object at 0x7f15959100a0&gt;</pre></div></div></div><div class=\"sk-serial\"><div class=\"sk-item\"><div class=\"sk-estimator sk-toggleable\"><input class=\"sk-toggleable__control sk-hidden--visually\" id=\"sk-estimator-id-4\" type=\"checkbox\" ><label for=\"sk-estimator-id-4\" class=\"sk-toggleable__label sk-toggleable__label-arrow\">StandardScaler</label><div class=\"sk-toggleable__content\"><pre>StandardScaler()</pre></div></div></div></div></div></div><div class=\"sk-parallel-item\"><div class=\"sk-item\"><div class=\"sk-label-container\"><div class=\"sk-label sk-toggleable\"><input class=\"sk-toggleable__control sk-hidden--visually\" id=\"sk-estimator-id-5\" type=\"checkbox\" ><label for=\"sk-estimator-id-5\" class=\"sk-toggleable__label sk-toggleable__label-arrow\">categories</label><div class=\"sk-toggleable__content\"><pre>&lt;sklearn.compose._column_transformer.make_column_selector object at 0x7f1595910c70&gt;</pre></div></div></div><div class=\"sk-serial\"><div class=\"sk-item\"><div class=\"sk-estimator sk-toggleable\"><input class=\"sk-toggleable__control sk-hidden--visually\" id=\"sk-estimator-id-6\" type=\"checkbox\" ><label for=\"sk-estimator-id-6\" class=\"sk-toggleable__label sk-toggleable__label-arrow\">OneHotEncoder</label><div class=\"sk-toggleable__content\"><pre>OneHotEncoder()</pre></div></div></div></div></div></div></div></div></div></div>"
      ],
      "text/plain": [
       "ColumnTransformer(transformers=[('scaler', StandardScaler(),\n",
       "                                 <sklearn.compose._column_transformer.make_column_selector object at 0x7f15959100a0>),\n",
       "                                ('categories', OneHotEncoder(),\n",
       "                                 <sklearn.compose._column_transformer.make_column_selector object at 0x7f1595910c70>)],\n",
       "                  verbose_feature_names_out=False)"
      ]
     },
     "execution_count": 63,
     "metadata": {},
     "output_type": "execute_result"
    }
   ],
   "source": [
    "column_trans"
   ]
  },
  {
   "cell_type": "code",
   "execution_count": 64,
   "id": "be6bb5e2",
   "metadata": {},
   "outputs": [
    {
     "data": {
      "text/html": [
       "<style>#sk-container-id-3 {color: black;background-color: white;}#sk-container-id-3 pre{padding: 0;}#sk-container-id-3 div.sk-toggleable {background-color: white;}#sk-container-id-3 label.sk-toggleable__label {cursor: pointer;display: block;width: 100%;margin-bottom: 0;padding: 0.3em;box-sizing: border-box;text-align: center;}#sk-container-id-3 label.sk-toggleable__label-arrow:before {content: \"▸\";float: left;margin-right: 0.25em;color: #696969;}#sk-container-id-3 label.sk-toggleable__label-arrow:hover:before {color: black;}#sk-container-id-3 div.sk-estimator:hover label.sk-toggleable__label-arrow:before {color: black;}#sk-container-id-3 div.sk-toggleable__content {max-height: 0;max-width: 0;overflow: hidden;text-align: left;background-color: #f0f8ff;}#sk-container-id-3 div.sk-toggleable__content pre {margin: 0.2em;color: black;border-radius: 0.25em;background-color: #f0f8ff;}#sk-container-id-3 input.sk-toggleable__control:checked~div.sk-toggleable__content {max-height: 200px;max-width: 100%;overflow: auto;}#sk-container-id-3 input.sk-toggleable__control:checked~label.sk-toggleable__label-arrow:before {content: \"▾\";}#sk-container-id-3 div.sk-estimator input.sk-toggleable__control:checked~label.sk-toggleable__label {background-color: #d4ebff;}#sk-container-id-3 div.sk-label input.sk-toggleable__control:checked~label.sk-toggleable__label {background-color: #d4ebff;}#sk-container-id-3 input.sk-hidden--visually {border: 0;clip: rect(1px 1px 1px 1px);clip: rect(1px, 1px, 1px, 1px);height: 1px;margin: -1px;overflow: hidden;padding: 0;position: absolute;width: 1px;}#sk-container-id-3 div.sk-estimator {font-family: monospace;background-color: #f0f8ff;border: 1px dotted black;border-radius: 0.25em;box-sizing: border-box;margin-bottom: 0.5em;}#sk-container-id-3 div.sk-estimator:hover {background-color: #d4ebff;}#sk-container-id-3 div.sk-parallel-item::after {content: \"\";width: 100%;border-bottom: 1px solid gray;flex-grow: 1;}#sk-container-id-3 div.sk-label:hover label.sk-toggleable__label {background-color: #d4ebff;}#sk-container-id-3 div.sk-serial::before {content: \"\";position: absolute;border-left: 1px solid gray;box-sizing: border-box;top: 0;bottom: 0;left: 50%;z-index: 0;}#sk-container-id-3 div.sk-serial {display: flex;flex-direction: column;align-items: center;background-color: white;padding-right: 0.2em;padding-left: 0.2em;position: relative;}#sk-container-id-3 div.sk-item {position: relative;z-index: 1;}#sk-container-id-3 div.sk-parallel {display: flex;align-items: stretch;justify-content: center;background-color: white;position: relative;}#sk-container-id-3 div.sk-item::before, #sk-container-id-3 div.sk-parallel-item::before {content: \"\";position: absolute;border-left: 1px solid gray;box-sizing: border-box;top: 0;bottom: 0;left: 50%;z-index: -1;}#sk-container-id-3 div.sk-parallel-item {display: flex;flex-direction: column;z-index: 1;position: relative;background-color: white;}#sk-container-id-3 div.sk-parallel-item:first-child::after {align-self: flex-end;width: 50%;}#sk-container-id-3 div.sk-parallel-item:last-child::after {align-self: flex-start;width: 50%;}#sk-container-id-3 div.sk-parallel-item:only-child::after {width: 0;}#sk-container-id-3 div.sk-dashed-wrapped {border: 1px dashed gray;margin: 0 0.4em 0.5em 0.4em;box-sizing: border-box;padding-bottom: 0.4em;background-color: white;}#sk-container-id-3 div.sk-label label {font-family: monospace;font-weight: bold;display: inline-block;line-height: 1.2em;}#sk-container-id-3 div.sk-label-container {text-align: center;}#sk-container-id-3 div.sk-container {/* jupyter's `normalize.less` sets `[hidden] { display: none; }` but bootstrap.min.css set `[hidden] { display: none !important; }` so we also need the `!important` here to be able to override the default hidden behavior on the sphinx rendered scikit-learn.org. See: https://github.com/scikit-learn/scikit-learn/issues/21755 */display: inline-block !important;position: relative;}#sk-container-id-3 div.sk-text-repr-fallback {display: none;}</style><div id=\"sk-container-id-3\" class=\"sk-top-container\"><div class=\"sk-text-repr-fallback\"><pre>LogisticRegression(C=0.001, max_iter=1000)</pre><b>In a Jupyter environment, please rerun this cell to show the HTML representation or trust the notebook. <br />On GitHub, the HTML representation is unable to render, please try loading this page with nbviewer.org.</b></div><div class=\"sk-container\" hidden><div class=\"sk-item\"><div class=\"sk-estimator sk-toggleable\"><input class=\"sk-toggleable__control sk-hidden--visually\" id=\"sk-estimator-id-7\" type=\"checkbox\" checked><label for=\"sk-estimator-id-7\" class=\"sk-toggleable__label sk-toggleable__label-arrow\">LogisticRegression</label><div class=\"sk-toggleable__content\"><pre>LogisticRegression(C=0.001, max_iter=1000)</pre></div></div></div></div></div>"
      ],
      "text/plain": [
       "LogisticRegression(C=0.001, max_iter=1000)"
      ]
     },
     "execution_count": 64,
     "metadata": {},
     "output_type": "execute_result"
    }
   ],
   "source": [
    "model"
   ]
  },
  {
   "cell_type": "code",
   "execution_count": 65,
   "id": "38647434",
   "metadata": {},
   "outputs": [],
   "source": [
    "# Define a predict function\n",
    "\n",
    "def predict(df, column_trans, model):\n",
    "    X = column_trans.transform(df)\n",
    "    y_pred = model.predict_proba(X)[:, 1]\n",
    "\n",
    "    return y_pred"
   ]
  },
  {
   "cell_type": "code",
   "execution_count": 66,
   "id": "ec7a9301",
   "metadata": {},
   "outputs": [],
   "source": [
    "y_pred = predict(df_val, column_trans, model)"
   ]
  },
  {
   "cell_type": "code",
   "execution_count": 67,
   "id": "9b559d44",
   "metadata": {},
   "outputs": [
    {
     "name": "stdout",
     "output_type": "stream",
     "text": [
      "C=0.001 0.748 +- 0.041 0.699\n",
      "C=0.01 0.774 +- 0.021 0.715\n",
      "C=0.1 0.786 +- 0.018 0.756\n",
      "C=0.5 0.783 +- 0.026 0.745\n",
      "C=1 0.781 +- 0.029 0.744\n",
      "C=5 0.777 +- 0.032 0.738\n",
      "C=10 0.776 +- 0.033 0.738\n"
     ]
    }
   ],
   "source": [
    "# Cross validation\n",
    "\n",
    "from sklearn.model_selection import StratifiedKFold\n",
    "\n",
    "n_splits = 5\n",
    "for C in [0.001, 0.01, 0.1, 0.5, 1, 5, 10]:\n",
    "    skfold = StratifiedKFold(n_splits=n_splits, shuffle=True, random_state=1)\n",
    "\n",
    "    scores = []\n",
    "    accuracy = []\n",
    "    \n",
    "    for train_idx, val_idx in skfold.split(df_full, y_full):\n",
    "        \n",
    "        X_train, X_val = df_full.iloc[train_idx], df_full.iloc[val_idx]\n",
    "        y_train, y_val = y_full.iloc[train_idx], y_full.iloc[val_idx]\n",
    "               \n",
    "        column_trans, model = train(X_train, y_train, C=C)\n",
    "        y_pred = predict(X_val, column_trans, model)\n",
    "\n",
    "        auc = roc_auc_score(y_val, y_pred)\n",
    "        scores.append(auc)\n",
    "        \n",
    "        acc = accuracy_score(y_val, y_pred>=0.5)                          \n",
    "        accuracy.append(acc)\n",
    "\n",
    "    print('C=%s %.3f +- %.3f %.3f' % (C, np.mean(scores), np.std(scores), np.mean(accuracy)))"
   ]
  },
  {
   "cell_type": "markdown",
   "id": "2d02dd04",
   "metadata": {},
   "source": [
    "Model had the best roc_auc_score at C = 0.1"
   ]
  },
  {
   "cell_type": "markdown",
   "id": "b9680cf6",
   "metadata": {},
   "source": [
    "## Different Methods of Learning from Imbalanced Data"
   ]
  },
  {
   "cell_type": "markdown",
   "id": "73ea7b2a",
   "metadata": {},
   "source": [
    "* Use the metric balanced_accuracy_score which takes into account the balancing issue\n",
    "* Try different sampling techniques with preferred model"
   ]
  },
  {
   "cell_type": "code",
   "execution_count": 68,
   "id": "e3f0ec5d",
   "metadata": {},
   "outputs": [
    {
     "data": {
      "text/html": [
       "<div>\n",
       "<style scoped>\n",
       "    .dataframe tbody tr th:only-of-type {\n",
       "        vertical-align: middle;\n",
       "    }\n",
       "\n",
       "    .dataframe tbody tr th {\n",
       "        vertical-align: top;\n",
       "    }\n",
       "\n",
       "    .dataframe thead th {\n",
       "        text-align: right;\n",
       "    }\n",
       "</style>\n",
       "<table border=\"1\" class=\"dataframe\">\n",
       "  <thead>\n",
       "    <tr style=\"text-align: right;\">\n",
       "      <th></th>\n",
       "      <th>Accuracy</th>\n",
       "      <th>Balanced accuracy</th>\n",
       "      <th>Recall</th>\n",
       "      <th>Roc Auc</th>\n",
       "    </tr>\n",
       "  </thead>\n",
       "  <tbody>\n",
       "    <tr>\n",
       "      <th>Logistic Regression</th>\n",
       "      <td>0.7625</td>\n",
       "      <td>0.670633</td>\n",
       "      <td>0.439626</td>\n",
       "      <td>0.791352</td>\n",
       "    </tr>\n",
       "  </tbody>\n",
       "</table>\n",
       "</div>"
      ],
      "text/plain": [
       "                     Accuracy  Balanced accuracy    Recall   Roc Auc\n",
       "Logistic Regression    0.7625           0.670633  0.439626  0.791352"
      ]
     },
     "execution_count": 68,
     "metadata": {},
     "output_type": "execute_result"
    }
   ],
   "source": [
    "from sklearn.pipeline import make_pipeline\n",
    "from sklearn.compose import make_column_transformer\n",
    "from sklearn.compose import make_column_selector as selector\n",
    "from sklearn.model_selection import cross_validate\n",
    "from sklearn.metrics import balanced_accuracy_score\n",
    "\n",
    "num_pipe = make_pipeline(StandardScaler())\n",
    "cat_pipe = make_pipeline(OneHotEncoder())\n",
    "\n",
    "preprocessor = make_column_transformer(\n",
    "    (num_pipe, selector(dtype_include=np.number)),\n",
    "    (cat_pipe, selector(dtype_exclude=np.number)),\n",
    "    )\n",
    "\n",
    "# Logistic regression\n",
    "lr_model = make_pipeline(preprocessor, LogisticRegression(C=0.1, max_iter=1000))\n",
    "scoring = [\"accuracy\", \"balanced_accuracy\", \"recall\", \"roc_auc\"]\n",
    "\n",
    "index = []\n",
    "scores = {\"Accuracy\": [], \"Balanced accuracy\": [], \"Recall\": [], \"Roc Auc\": []}\n",
    "\n",
    "index += [\"Logistic Regression\"]\n",
    "cv_result = cross_validate(lr_model, df_full, y_full, scoring=scoring)\n",
    "scores[\"Accuracy\"].append(cv_result[\"test_accuracy\"].mean())\n",
    "scores[\"Balanced accuracy\"].append(cv_result[\"test_balanced_accuracy\"].mean())\n",
    "scores[\"Recall\"].append(cv_result[\"test_recall\"].mean())\n",
    "scores[\"Roc Auc\"].append(cv_result[\"test_roc_auc\"].mean())\n",
    "\n",
    "\n",
    "\n",
    "df_scores = pd.DataFrame(scores, index=index)\n",
    "df_scores"
   ]
  },
  {
   "cell_type": "code",
   "execution_count": 69,
   "id": "16b5d2d1",
   "metadata": {},
   "outputs": [
    {
     "data": {
      "text/html": [
       "<div>\n",
       "<style scoped>\n",
       "    .dataframe tbody tr th:only-of-type {\n",
       "        vertical-align: middle;\n",
       "    }\n",
       "\n",
       "    .dataframe tbody tr th {\n",
       "        vertical-align: top;\n",
       "    }\n",
       "\n",
       "    .dataframe thead th {\n",
       "        text-align: right;\n",
       "    }\n",
       "</style>\n",
       "<table border=\"1\" class=\"dataframe\">\n",
       "  <thead>\n",
       "    <tr style=\"text-align: right;\">\n",
       "      <th></th>\n",
       "      <th>Accuracy</th>\n",
       "      <th>Balanced accuracy</th>\n",
       "      <th>Recall</th>\n",
       "      <th>Roc Auc</th>\n",
       "    </tr>\n",
       "  </thead>\n",
       "  <tbody>\n",
       "    <tr>\n",
       "      <th>Logistic Regression</th>\n",
       "      <td>0.76250</td>\n",
       "      <td>0.670633</td>\n",
       "      <td>0.439626</td>\n",
       "      <td>0.791352</td>\n",
       "    </tr>\n",
       "    <tr>\n",
       "      <th>Logistic Regression + class weight</th>\n",
       "      <td>0.72375</td>\n",
       "      <td>0.727913</td>\n",
       "      <td>0.738435</td>\n",
       "      <td>0.792091</td>\n",
       "    </tr>\n",
       "  </tbody>\n",
       "</table>\n",
       "</div>"
      ],
      "text/plain": [
       "                                    Accuracy  Balanced accuracy    Recall  \\\n",
       "Logistic Regression                  0.76250           0.670633  0.439626   \n",
       "Logistic Regression + class weight   0.72375           0.727913  0.738435   \n",
       "\n",
       "                                     Roc Auc  \n",
       "Logistic Regression                 0.791352  \n",
       "Logistic Regression + class weight  0.792091  "
      ]
     },
     "execution_count": 69,
     "metadata": {},
     "output_type": "execute_result"
    }
   ],
   "source": [
    "# Use logistic regression + class weight\n",
    "\n",
    "lr_model.set_params(logisticregression__class_weight=\"balanced\")\n",
    "\n",
    "index += [\"Logistic Regression + class weight\"]\n",
    "cv_result = cross_validate(lr_model, df_full, y_full, scoring=scoring)\n",
    "scores[\"Accuracy\"].append(cv_result[\"test_accuracy\"].mean())\n",
    "scores[\"Balanced accuracy\"].append(cv_result[\"test_balanced_accuracy\"].mean())\n",
    "scores[\"Recall\"].append(cv_result[\"test_recall\"].mean())\n",
    "scores[\"Roc Auc\"].append(cv_result[\"test_roc_auc\"].mean())\n",
    "\n",
    "df_scores = pd.DataFrame(scores, index=index)\n",
    "df_scores"
   ]
  },
  {
   "cell_type": "code",
   "execution_count": 70,
   "id": "b9328511",
   "metadata": {},
   "outputs": [
    {
     "data": {
      "text/html": [
       "<div>\n",
       "<style scoped>\n",
       "    .dataframe tbody tr th:only-of-type {\n",
       "        vertical-align: middle;\n",
       "    }\n",
       "\n",
       "    .dataframe tbody tr th {\n",
       "        vertical-align: top;\n",
       "    }\n",
       "\n",
       "    .dataframe thead th {\n",
       "        text-align: right;\n",
       "    }\n",
       "</style>\n",
       "<table border=\"1\" class=\"dataframe\">\n",
       "  <thead>\n",
       "    <tr style=\"text-align: right;\">\n",
       "      <th></th>\n",
       "      <th>Accuracy</th>\n",
       "      <th>Balanced accuracy</th>\n",
       "      <th>Recall</th>\n",
       "      <th>Roc Auc</th>\n",
       "    </tr>\n",
       "  </thead>\n",
       "  <tbody>\n",
       "    <tr>\n",
       "      <th>Logistic Regression</th>\n",
       "      <td>0.76250</td>\n",
       "      <td>0.670633</td>\n",
       "      <td>0.439626</td>\n",
       "      <td>0.791352</td>\n",
       "    </tr>\n",
       "    <tr>\n",
       "      <th>Logistic Regression + class weight</th>\n",
       "      <td>0.72375</td>\n",
       "      <td>0.727913</td>\n",
       "      <td>0.738435</td>\n",
       "      <td>0.792091</td>\n",
       "    </tr>\n",
       "    <tr>\n",
       "      <th>Logistic Regression + Undersampling</th>\n",
       "      <td>0.70625</td>\n",
       "      <td>0.723781</td>\n",
       "      <td>0.767687</td>\n",
       "      <td>0.793104</td>\n",
       "    </tr>\n",
       "  </tbody>\n",
       "</table>\n",
       "</div>"
      ],
      "text/plain": [
       "                                     Accuracy  Balanced accuracy    Recall  \\\n",
       "Logistic Regression                   0.76250           0.670633  0.439626   \n",
       "Logistic Regression + class weight    0.72375           0.727913  0.738435   \n",
       "Logistic Regression + Undersampling   0.70625           0.723781  0.767687   \n",
       "\n",
       "                                      Roc Auc  \n",
       "Logistic Regression                  0.791352  \n",
       "Logistic Regression + class weight   0.792091  \n",
       "Logistic Regression + Undersampling  0.793104  "
      ]
     },
     "execution_count": 70,
     "metadata": {},
     "output_type": "execute_result"
    }
   ],
   "source": [
    "# Use logistic regression + undersampling\n",
    "\n",
    "from imblearn.under_sampling import RandomUnderSampler\n",
    "from imblearn.pipeline import make_pipeline as make_pipeline_with_sampler\n",
    "\n",
    "lr_model = make_pipeline_with_sampler(\n",
    "    preprocessor,\n",
    "    RandomUnderSampler(random_state=42),\n",
    "    LogisticRegression(C=0.1, max_iter=1000),\n",
    ")\n",
    "\n",
    "index += [\"Logistic Regression + Undersampling\"]\n",
    "cv_result = cross_validate(lr_model, df_full, y_full, scoring=scoring)\n",
    "scores[\"Accuracy\"].append(cv_result[\"test_accuracy\"].mean())\n",
    "scores[\"Balanced accuracy\"].append(cv_result[\"test_balanced_accuracy\"].mean())\n",
    "scores[\"Recall\"].append(cv_result[\"test_recall\"].mean())\n",
    "scores[\"Roc Auc\"].append(cv_result[\"test_roc_auc\"].mean())\n",
    "\n",
    "df_scores = pd.DataFrame(scores, index=index)\n",
    "df_scores"
   ]
  },
  {
   "cell_type": "code",
   "execution_count": 71,
   "id": "7ecea527",
   "metadata": {},
   "outputs": [
    {
     "data": {
      "text/html": [
       "<div>\n",
       "<style scoped>\n",
       "    .dataframe tbody tr th:only-of-type {\n",
       "        vertical-align: middle;\n",
       "    }\n",
       "\n",
       "    .dataframe tbody tr th {\n",
       "        vertical-align: top;\n",
       "    }\n",
       "\n",
       "    .dataframe thead th {\n",
       "        text-align: right;\n",
       "    }\n",
       "</style>\n",
       "<table border=\"1\" class=\"dataframe\">\n",
       "  <thead>\n",
       "    <tr style=\"text-align: right;\">\n",
       "      <th></th>\n",
       "      <th>Accuracy</th>\n",
       "      <th>Balanced accuracy</th>\n",
       "      <th>Recall</th>\n",
       "      <th>Roc Auc</th>\n",
       "    </tr>\n",
       "  </thead>\n",
       "  <tbody>\n",
       "    <tr>\n",
       "      <th>Logistic Regression</th>\n",
       "      <td>0.76250</td>\n",
       "      <td>0.670633</td>\n",
       "      <td>0.439626</td>\n",
       "      <td>0.791352</td>\n",
       "    </tr>\n",
       "    <tr>\n",
       "      <th>Logistic Regression + class weight</th>\n",
       "      <td>0.72375</td>\n",
       "      <td>0.727913</td>\n",
       "      <td>0.738435</td>\n",
       "      <td>0.792091</td>\n",
       "    </tr>\n",
       "    <tr>\n",
       "      <th>Logistic Regression + Undersampling</th>\n",
       "      <td>0.70625</td>\n",
       "      <td>0.723781</td>\n",
       "      <td>0.767687</td>\n",
       "      <td>0.793104</td>\n",
       "    </tr>\n",
       "    <tr>\n",
       "      <th>Logistic Regression + SMOTE</th>\n",
       "      <td>0.72125</td>\n",
       "      <td>0.717990</td>\n",
       "      <td>0.709694</td>\n",
       "      <td>0.789741</td>\n",
       "    </tr>\n",
       "  </tbody>\n",
       "</table>\n",
       "</div>"
      ],
      "text/plain": [
       "                                     Accuracy  Balanced accuracy    Recall  \\\n",
       "Logistic Regression                   0.76250           0.670633  0.439626   \n",
       "Logistic Regression + class weight    0.72375           0.727913  0.738435   \n",
       "Logistic Regression + Undersampling   0.70625           0.723781  0.767687   \n",
       "Logistic Regression + SMOTE           0.72125           0.717990  0.709694   \n",
       "\n",
       "                                      Roc Auc  \n",
       "Logistic Regression                  0.791352  \n",
       "Logistic Regression + class weight   0.792091  \n",
       "Logistic Regression + Undersampling  0.793104  \n",
       "Logistic Regression + SMOTE          0.789741  "
      ]
     },
     "execution_count": 71,
     "metadata": {},
     "output_type": "execute_result"
    }
   ],
   "source": [
    "# Use logistic regression + oversampling\n",
    "\n",
    "from imblearn.over_sampling import SMOTE\n",
    "\n",
    "lr_model = make_pipeline_with_sampler(\n",
    "    preprocessor,\n",
    "    SMOTE(random_state=0),\n",
    "    LogisticRegression(C=0.1, max_iter=1000),\n",
    ")\n",
    "\n",
    "index += [\"Logistic Regression + SMOTE\"]\n",
    "cv_result = cross_validate(lr_model, df_full, y_full, scoring=scoring)\n",
    "scores[\"Accuracy\"].append(cv_result[\"test_accuracy\"].mean())\n",
    "scores[\"Balanced accuracy\"].append(cv_result[\"test_balanced_accuracy\"].mean())\n",
    "scores[\"Recall\"].append(cv_result[\"test_recall\"].mean())\n",
    "scores[\"Roc Auc\"].append(cv_result[\"test_roc_auc\"].mean())\n",
    "\n",
    "df_scores = pd.DataFrame(scores, index=index)\n",
    "df_scores                     "
   ]
  },
  {
   "cell_type": "code",
   "execution_count": 72,
   "id": "467eebba",
   "metadata": {},
   "outputs": [
    {
     "data": {
      "text/html": [
       "<div>\n",
       "<style scoped>\n",
       "    .dataframe tbody tr th:only-of-type {\n",
       "        vertical-align: middle;\n",
       "    }\n",
       "\n",
       "    .dataframe tbody tr th {\n",
       "        vertical-align: top;\n",
       "    }\n",
       "\n",
       "    .dataframe thead th {\n",
       "        text-align: right;\n",
       "    }\n",
       "</style>\n",
       "<table border=\"1\" class=\"dataframe\">\n",
       "  <thead>\n",
       "    <tr style=\"text-align: right;\">\n",
       "      <th></th>\n",
       "      <th>Accuracy</th>\n",
       "      <th>Balanced accuracy</th>\n",
       "      <th>Recall</th>\n",
       "      <th>Roc Auc</th>\n",
       "    </tr>\n",
       "  </thead>\n",
       "  <tbody>\n",
       "    <tr>\n",
       "      <th>Logistic Regression</th>\n",
       "      <td>0.76250</td>\n",
       "      <td>0.670633</td>\n",
       "      <td>0.439626</td>\n",
       "      <td>0.791352</td>\n",
       "    </tr>\n",
       "    <tr>\n",
       "      <th>Logistic Regression + class weight</th>\n",
       "      <td>0.72375</td>\n",
       "      <td>0.727913</td>\n",
       "      <td>0.738435</td>\n",
       "      <td>0.792091</td>\n",
       "    </tr>\n",
       "    <tr>\n",
       "      <th>Logistic Regression + Undersampling</th>\n",
       "      <td>0.70625</td>\n",
       "      <td>0.723781</td>\n",
       "      <td>0.767687</td>\n",
       "      <td>0.793104</td>\n",
       "    </tr>\n",
       "    <tr>\n",
       "      <th>Logistic Regression + SMOTE</th>\n",
       "      <td>0.72125</td>\n",
       "      <td>0.717990</td>\n",
       "      <td>0.709694</td>\n",
       "      <td>0.789741</td>\n",
       "    </tr>\n",
       "    <tr>\n",
       "      <th>Logistic Regression + SMOTE + under</th>\n",
       "      <td>0.72125</td>\n",
       "      <td>0.717990</td>\n",
       "      <td>0.709694</td>\n",
       "      <td>0.789741</td>\n",
       "    </tr>\n",
       "  </tbody>\n",
       "</table>\n",
       "</div>"
      ],
      "text/plain": [
       "                                     Accuracy  Balanced accuracy    Recall  \\\n",
       "Logistic Regression                   0.76250           0.670633  0.439626   \n",
       "Logistic Regression + class weight    0.72375           0.727913  0.738435   \n",
       "Logistic Regression + Undersampling   0.70625           0.723781  0.767687   \n",
       "Logistic Regression + SMOTE           0.72125           0.717990  0.709694   \n",
       "Logistic Regression + SMOTE + under   0.72125           0.717990  0.709694   \n",
       "\n",
       "                                      Roc Auc  \n",
       "Logistic Regression                  0.791352  \n",
       "Logistic Regression + class weight   0.792091  \n",
       "Logistic Regression + Undersampling  0.793104  \n",
       "Logistic Regression + SMOTE          0.789741  \n",
       "Logistic Regression + SMOTE + under  0.789741  "
      ]
     },
     "execution_count": 72,
     "metadata": {},
     "output_type": "execute_result"
    }
   ],
   "source": [
    "# Use logistic regression + oversampling & undersampling\n",
    "\n",
    "lr_model = make_pipeline_with_sampler(\n",
    "    preprocessor,\n",
    "    SMOTE(random_state=0),\n",
    "    RandomUnderSampler(random_state=42),\n",
    "    LogisticRegression(C=0.1, max_iter=1000),\n",
    ")\n",
    "\n",
    "index += [\"Logistic Regression + SMOTE + under\"]\n",
    "cv_result = cross_validate(lr_model, df_full, y_full, scoring=scoring)\n",
    "scores[\"Accuracy\"].append(cv_result[\"test_accuracy\"].mean())\n",
    "scores[\"Balanced accuracy\"].append(cv_result[\"test_balanced_accuracy\"].mean())\n",
    "scores[\"Recall\"].append(cv_result[\"test_recall\"].mean())\n",
    "scores[\"Roc Auc\"].append(cv_result[\"test_roc_auc\"].mean())\n",
    "\n",
    "df_scores = pd.DataFrame(scores, index=index)\n",
    "df_scores                     "
   ]
  },
  {
   "cell_type": "markdown",
   "id": "8d707b95",
   "metadata": {},
   "source": [
    "The model with the best balanced_accuracy_score is 'logistic regression + class weight', with 'logistic regression + \n",
    "undersampling' following suit with a slightly higher roc_auc_score."
   ]
  },
  {
   "cell_type": "markdown",
   "id": "cd12a8cd",
   "metadata": {},
   "source": [
    "### Train Full data \n",
    "\n",
    "Use the model with the best balanced accuracy for further training."
   ]
  },
  {
   "cell_type": "code",
   "execution_count": 73,
   "id": "b017bb45",
   "metadata": {},
   "outputs": [],
   "source": [
    "# Define a Train2 function, specify 'class_weight' parameter\n",
    "\n",
    "def train2(df_train, y_train, C=1.0):\n",
    "    column_trans = ColumnTransformer(\n",
    "    [\n",
    "        ('scaler', StandardScaler(), make_column_selector(dtype_include=np.number)),\n",
    "        ('categories', OneHotEncoder(), make_column_selector(dtype_exclude=np.number)),  \n",
    "    ],\n",
    "    remainder='drop', verbose_feature_names_out=False)\n",
    "    \n",
    "    X_train = column_trans.fit_transform(df_train)\n",
    "\n",
    "    model = LogisticRegression(C=C, max_iter=1000, class_weight = 'balanced')\n",
    "    model.fit(X_train, y_train)\n",
    "    \n",
    "    return column_trans, model"
   ]
  },
  {
   "cell_type": "code",
   "execution_count": 74,
   "id": "85fa8bff",
   "metadata": {},
   "outputs": [
    {
     "name": "stdout",
     "output_type": "stream",
     "text": [
      "C=0.001 0.750 +- 0.040 0.686\n",
      "C=0.01 0.776 +- 0.019 0.718\n",
      "C=0.1 0.787 +- 0.019 0.715\n",
      "C=0.5 0.784 +- 0.027 0.720\n",
      "C=1 0.781 +- 0.030 0.719\n",
      "C=5 0.776 +- 0.033 0.713\n"
     ]
    }
   ],
   "source": [
    "# Use entire dataset for cross validation except for 'df_test'\n",
    "\n",
    "n_splits = 5\n",
    "for C in [0.001, 0.01, 0.1, 0.5, 1, 5]:\n",
    "    skfold = StratifiedKFold(n_splits=n_splits, shuffle=True, random_state=1)\n",
    "\n",
    "    scores = []\n",
    "    accuracy = []\n",
    "    \n",
    "    for train_idx, val_idx in skfold.split(df_full, y_full):\n",
    "        \n",
    "        X_train, X_val = df_full.iloc[train_idx], df_full.iloc[val_idx]\n",
    "        y_train, y_val = y_full.iloc[train_idx], y_full.iloc[val_idx]\n",
    "               \n",
    "        column_trans, model = train2(X_train, y_train, C=C)\n",
    "        y_pred = predict(X_val, column_trans, model)\n",
    "\n",
    "        auc = roc_auc_score(y_val, y_pred)\n",
    "        scores.append(auc)\n",
    "        \n",
    "        acc = accuracy_score(y_val, y_pred>=0.5)                          \n",
    "        accuracy.append(acc)\n",
    "\n",
    "    print('C=%s %.3f +- %.3f %.3f' % (C, np.mean(scores), np.std(scores), np.mean(accuracy)))"
   ]
  },
  {
   "cell_type": "markdown",
   "id": "e60f0522",
   "metadata": {},
   "source": [
    "## Using the model"
   ]
  },
  {
   "cell_type": "code",
   "execution_count": 75,
   "id": "c20b491f",
   "metadata": {},
   "outputs": [
    {
     "data": {
      "text/plain": [
       "0.771967784589494"
      ]
     },
     "execution_count": 75,
     "metadata": {},
     "output_type": "execute_result"
    }
   ],
   "source": [
    "# Predict\n",
    "column_trans, model = train2(df_full, y_full, C=0.1)\n",
    "y_pred = predict(df_test, column_trans, model)\n",
    "\n",
    "auc = roc_auc_score(y_test, y_pred)\n",
    "auc"
   ]
  },
  {
   "cell_type": "code",
   "execution_count": 76,
   "id": "2695f5e8",
   "metadata": {},
   "outputs": [
    {
     "name": "stdout",
     "output_type": "stream",
     "text": [
      "                   pre       rec       spe        f1       geo       iba       sup\n",
      "\n",
      "          0       0.83      0.75      0.63      0.79      0.69      0.48       141\n",
      "          1       0.51      0.63      0.75      0.56      0.69      0.47        59\n",
      "\n",
      "avg / total       0.74      0.71      0.66      0.72      0.69      0.47       200\n",
      "\n"
     ]
    }
   ],
   "source": [
    "# Evaluate performance on test set\n",
    "\n",
    "print(classification_report_imbalanced(y_test, y_pred>=.5))"
   ]
  },
  {
   "cell_type": "code",
   "execution_count": 77,
   "id": "5fd44158",
   "metadata": {},
   "outputs": [],
   "source": [
    "# Dummy customer to test our model\n",
    "customer = df_test[:1]"
   ]
  },
  {
   "cell_type": "code",
   "execution_count": 78,
   "id": "d9180b9e",
   "metadata": {},
   "outputs": [],
   "source": [
    "# Save model to a file\n",
    "\n",
    "import pickle\n",
    "\n",
    "with open('model.bin', 'wb') as f_out:\n",
    "   pickle.dump((column_trans, model), f_out)"
   ]
  },
  {
   "cell_type": "code",
   "execution_count": 79,
   "id": "17a29a54",
   "metadata": {},
   "outputs": [],
   "source": [
    "with open('model.bin', 'rb') as f_in:\n",
    "    column_trans, model = pickle.load(f_in)"
   ]
  },
  {
   "cell_type": "code",
   "execution_count": 80,
   "id": "06fe85e6",
   "metadata": {},
   "outputs": [],
   "source": [
    "X = column_trans.transform(customer)"
   ]
  },
  {
   "cell_type": "code",
   "execution_count": 81,
   "id": "8d184164",
   "metadata": {},
   "outputs": [
    {
     "data": {
      "text/plain": [
       "0.5559627856690232"
      ]
     },
     "execution_count": 81,
     "metadata": {},
     "output_type": "execute_result"
    }
   ],
   "source": [
    "model.predict_proba(X)[0, 1]"
   ]
  },
  {
   "cell_type": "code",
   "execution_count": 82,
   "id": "315e5b88",
   "metadata": {},
   "outputs": [
    {
     "data": {
      "text/plain": [
       "array([1])"
      ]
     },
     "execution_count": 82,
     "metadata": {},
     "output_type": "execute_result"
    }
   ],
   "source": [
    "# check that model made a correct prediction\n",
    "y_test[:1]"
   ]
  }
 ],
 "metadata": {
  "kernelspec": {
   "display_name": "Python 3 (ipykernel)",
   "language": "python",
   "name": "python3"
  },
  "language_info": {
   "codemirror_mode": {
    "name": "ipython",
    "version": 3
   },
   "file_extension": ".py",
   "mimetype": "text/x-python",
   "name": "python",
   "nbconvert_exporter": "python",
   "pygments_lexer": "ipython3",
   "version": "3.8.13"
  }
 },
 "nbformat": 4,
 "nbformat_minor": 5
}
